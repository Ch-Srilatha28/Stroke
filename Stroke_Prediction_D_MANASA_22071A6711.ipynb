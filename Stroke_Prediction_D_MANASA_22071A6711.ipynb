{
  "metadata": {
    "kernelspec": {
      "language": "python",
      "display_name": "Python 3",
      "name": "python3"
    },
    "language_info": {
      "name": "python",
      "version": "3.7.12",
      "mimetype": "text/x-python",
      "codemirror_mode": {
        "name": "ipython",
        "version": 3
      },
      "pygments_lexer": "ipython3",
      "nbconvert_exporter": "python",
      "file_extension": ".py"
    },
    "kaggle": {
      "accelerator": "none",
      "dataSources": [
        {
          "sourceId": 44630,
          "databundleVersionId": 4862933,
          "sourceType": "competition"
        }
      ],
      "dockerImageVersionId": 30357,
      "isInternetEnabled": false,
      "language": "python",
      "sourceType": "notebook",
      "isGpuEnabled": false
    },
    "colab": {
      "provenance": []
    }
  },
  "nbformat_minor": 0,
  "nbformat": 4,
  "cells": [
    {
      "cell_type": "markdown",
      "source": [
        "<html>\n",
        "<h1 style=\"text-align:center;color:red;background-color:powderblue;font-size:500%\">Stroke Prediction</h1>\n",
        "</html>"
      ],
      "metadata": {
        "id": "aYT6HWxSXiy7"
      }
    },
    {
      "cell_type": "markdown",
      "source": [
        "<html>\n",
        "<img src=\"https://encrypted-tbn0.gstatic.com/images?q=tbn:ANd9GcTZEnwQrr1zvjzkBV39dJd_9umh93F_phACiQ&usqp=CAU\" alt=\"Computer man\" style=\"width:800px;height:300px;\"/>\n",
        "</html>"
      ],
      "metadata": {
        "execution": {
          "iopub.execute_input": "2022-08-10T11:13:54.041851Z",
          "iopub.status.busy": "2022-08-10T11:13:54.041042Z",
          "iopub.status.idle": "2022-08-10T11:13:54.048473Z",
          "shell.execute_reply": "2022-08-10T11:13:54.047291Z",
          "shell.execute_reply.started": "2022-08-10T11:13:54.041808Z"
        },
        "id": "aM2cez9JXiy8"
      }
    },
    {
      "cell_type": "markdown",
      "source": [
        "## Data Manipulation <a class=\"anchor\" id=\"sec1\"></a>"
      ],
      "metadata": {
        "id": "7IvonUK1Xiy-"
      }
    },
    {
      "cell_type": "markdown",
      "source": [
        "### Importing libraries"
      ],
      "metadata": {
        "id": "dGsqjo1iXiy_"
      }
    },
    {
      "cell_type": "code",
      "source": [
        "import numpy as np\n",
        "import matplotlib.pyplot as plt\n",
        "import pandas as pd\n",
        "import seaborn as sns"
      ],
      "metadata": {
        "execution": {
          "iopub.status.busy": "2024-11-10T07:45:30.110076Z",
          "iopub.execute_input": "2024-11-10T07:45:30.110605Z",
          "iopub.status.idle": "2024-11-10T07:45:30.795538Z",
          "shell.execute_reply.started": "2024-11-10T07:45:30.110566Z",
          "shell.execute_reply": "2024-11-10T07:45:30.794301Z"
        },
        "trusted": true,
        "id": "j_ETFS9vXiy_"
      },
      "outputs": [],
      "execution_count": null
    },
    {
      "cell_type": "code",
      "source": [
        "pd.set_option(\"display.max_rows\", 100, \"display.max_columns\", 100)"
      ],
      "metadata": {
        "execution": {
          "iopub.status.busy": "2024-11-10T07:45:30.798410Z",
          "iopub.execute_input": "2024-11-10T07:45:30.799361Z",
          "iopub.status.idle": "2024-11-10T07:45:30.804836Z",
          "shell.execute_reply.started": "2024-11-10T07:45:30.799308Z",
          "shell.execute_reply": "2024-11-10T07:45:30.803573Z"
        },
        "trusted": true,
        "id": "3BjIZdJ3XizA"
      },
      "outputs": [],
      "execution_count": null
    },
    {
      "cell_type": "markdown",
      "source": [
        "### Importing dataset <a class=\"anchor\" id=\"sec1.1\"></a>"
      ],
      "metadata": {
        "id": "IQd9j5scXizA"
      }
    },
    {
      "cell_type": "code",
      "source": [
        "df=pd.read_csv(\"/content/train (1).csv\")\n",
        "test=pd.read_csv(\"/content/test.csv\")\n",
        "sub=pd.read_csv(\"/content/sample_submission.csv\")"
      ],
      "metadata": {
        "execution": {
          "iopub.status.busy": "2024-11-10T07:45:30.806367Z",
          "iopub.execute_input": "2024-11-10T07:45:30.806732Z",
          "iopub.status.idle": "2024-11-10T07:45:30.917444Z",
          "shell.execute_reply.started": "2024-11-10T07:45:30.806698Z",
          "shell.execute_reply": "2024-11-10T07:45:30.916333Z"
        },
        "trusted": true,
        "id": "x0mT9xvjXizA"
      },
      "outputs": [],
      "execution_count": null
    },
    {
      "cell_type": "markdown",
      "source": [
        "### Dataset View <a class=\"anchor\" id=\"sec1.2\"></a>"
      ],
      "metadata": {
        "id": "AoPh5P84XizB"
      }
    },
    {
      "cell_type": "code",
      "source": [
        "df.head(10)"
      ],
      "metadata": {
        "execution": {
          "iopub.status.busy": "2024-11-10T07:45:30.919039Z",
          "iopub.execute_input": "2024-11-10T07:45:30.919449Z",
          "iopub.status.idle": "2024-11-10T07:45:30.953263Z",
          "shell.execute_reply.started": "2024-11-10T07:45:30.919412Z",
          "shell.execute_reply": "2024-11-10T07:45:30.951905Z"
        },
        "trusted": true,
        "id": "mEVTAIS-XizB",
        "outputId": "57c765f3-ce9e-41e3-f82d-a42bd707bf82",
        "colab": {
          "base_uri": "https://localhost:8080/",
          "height": 363
        }
      },
      "outputs": [
        {
          "output_type": "execute_result",
          "data": {
            "text/plain": [
              "   id  gender   age  hypertension  heart_disease ever_married      work_type  \\\n",
              "0   0    Male  28.0             0              0          Yes        Private   \n",
              "1   1    Male  33.0             0              0          Yes        Private   \n",
              "2   2  Female  42.0             0              0          Yes        Private   \n",
              "3   3    Male  56.0             0              0          Yes        Private   \n",
              "4   4  Female  24.0             0              0           No        Private   \n",
              "5   5  Female  34.0             0              0          Yes        Private   \n",
              "6   6  Female  53.0             0              0          Yes        Private   \n",
              "7   7    Male  78.0             0              1          Yes  Self-employed   \n",
              "8   8  Female  45.0             0              0          Yes        Private   \n",
              "9   9  Female  62.0             0              0          Yes       Govt_job   \n",
              "\n",
              "  Residence_type  avg_glucose_level   bmi   smoking_status  stroke  \n",
              "0          Urban              79.53  31.1     never smoked       0  \n",
              "1          Rural              78.44  23.9  formerly smoked       0  \n",
              "2          Rural             103.00  40.3          Unknown       0  \n",
              "3          Urban              64.87  28.8     never smoked       0  \n",
              "4          Rural              73.36  28.8     never smoked       0  \n",
              "5          Urban              84.35  22.2          Unknown       0  \n",
              "6          Rural              88.97  25.3     never smoked       0  \n",
              "7          Rural              75.32  24.8          Unknown       0  \n",
              "8          Rural             107.22  34.1     never smoked       0  \n",
              "9          Urban              62.68  18.4  formerly smoked       0  "
            ],
            "text/html": [
              "\n",
              "  <div id=\"df-b48f921d-d40c-4f90-a966-2522b15325bb\" class=\"colab-df-container\">\n",
              "    <div>\n",
              "<style scoped>\n",
              "    .dataframe tbody tr th:only-of-type {\n",
              "        vertical-align: middle;\n",
              "    }\n",
              "\n",
              "    .dataframe tbody tr th {\n",
              "        vertical-align: top;\n",
              "    }\n",
              "\n",
              "    .dataframe thead th {\n",
              "        text-align: right;\n",
              "    }\n",
              "</style>\n",
              "<table border=\"1\" class=\"dataframe\">\n",
              "  <thead>\n",
              "    <tr style=\"text-align: right;\">\n",
              "      <th></th>\n",
              "      <th>id</th>\n",
              "      <th>gender</th>\n",
              "      <th>age</th>\n",
              "      <th>hypertension</th>\n",
              "      <th>heart_disease</th>\n",
              "      <th>ever_married</th>\n",
              "      <th>work_type</th>\n",
              "      <th>Residence_type</th>\n",
              "      <th>avg_glucose_level</th>\n",
              "      <th>bmi</th>\n",
              "      <th>smoking_status</th>\n",
              "      <th>stroke</th>\n",
              "    </tr>\n",
              "  </thead>\n",
              "  <tbody>\n",
              "    <tr>\n",
              "      <th>0</th>\n",
              "      <td>0</td>\n",
              "      <td>Male</td>\n",
              "      <td>28.0</td>\n",
              "      <td>0</td>\n",
              "      <td>0</td>\n",
              "      <td>Yes</td>\n",
              "      <td>Private</td>\n",
              "      <td>Urban</td>\n",
              "      <td>79.53</td>\n",
              "      <td>31.1</td>\n",
              "      <td>never smoked</td>\n",
              "      <td>0</td>\n",
              "    </tr>\n",
              "    <tr>\n",
              "      <th>1</th>\n",
              "      <td>1</td>\n",
              "      <td>Male</td>\n",
              "      <td>33.0</td>\n",
              "      <td>0</td>\n",
              "      <td>0</td>\n",
              "      <td>Yes</td>\n",
              "      <td>Private</td>\n",
              "      <td>Rural</td>\n",
              "      <td>78.44</td>\n",
              "      <td>23.9</td>\n",
              "      <td>formerly smoked</td>\n",
              "      <td>0</td>\n",
              "    </tr>\n",
              "    <tr>\n",
              "      <th>2</th>\n",
              "      <td>2</td>\n",
              "      <td>Female</td>\n",
              "      <td>42.0</td>\n",
              "      <td>0</td>\n",
              "      <td>0</td>\n",
              "      <td>Yes</td>\n",
              "      <td>Private</td>\n",
              "      <td>Rural</td>\n",
              "      <td>103.00</td>\n",
              "      <td>40.3</td>\n",
              "      <td>Unknown</td>\n",
              "      <td>0</td>\n",
              "    </tr>\n",
              "    <tr>\n",
              "      <th>3</th>\n",
              "      <td>3</td>\n",
              "      <td>Male</td>\n",
              "      <td>56.0</td>\n",
              "      <td>0</td>\n",
              "      <td>0</td>\n",
              "      <td>Yes</td>\n",
              "      <td>Private</td>\n",
              "      <td>Urban</td>\n",
              "      <td>64.87</td>\n",
              "      <td>28.8</td>\n",
              "      <td>never smoked</td>\n",
              "      <td>0</td>\n",
              "    </tr>\n",
              "    <tr>\n",
              "      <th>4</th>\n",
              "      <td>4</td>\n",
              "      <td>Female</td>\n",
              "      <td>24.0</td>\n",
              "      <td>0</td>\n",
              "      <td>0</td>\n",
              "      <td>No</td>\n",
              "      <td>Private</td>\n",
              "      <td>Rural</td>\n",
              "      <td>73.36</td>\n",
              "      <td>28.8</td>\n",
              "      <td>never smoked</td>\n",
              "      <td>0</td>\n",
              "    </tr>\n",
              "    <tr>\n",
              "      <th>5</th>\n",
              "      <td>5</td>\n",
              "      <td>Female</td>\n",
              "      <td>34.0</td>\n",
              "      <td>0</td>\n",
              "      <td>0</td>\n",
              "      <td>Yes</td>\n",
              "      <td>Private</td>\n",
              "      <td>Urban</td>\n",
              "      <td>84.35</td>\n",
              "      <td>22.2</td>\n",
              "      <td>Unknown</td>\n",
              "      <td>0</td>\n",
              "    </tr>\n",
              "    <tr>\n",
              "      <th>6</th>\n",
              "      <td>6</td>\n",
              "      <td>Female</td>\n",
              "      <td>53.0</td>\n",
              "      <td>0</td>\n",
              "      <td>0</td>\n",
              "      <td>Yes</td>\n",
              "      <td>Private</td>\n",
              "      <td>Rural</td>\n",
              "      <td>88.97</td>\n",
              "      <td>25.3</td>\n",
              "      <td>never smoked</td>\n",
              "      <td>0</td>\n",
              "    </tr>\n",
              "    <tr>\n",
              "      <th>7</th>\n",
              "      <td>7</td>\n",
              "      <td>Male</td>\n",
              "      <td>78.0</td>\n",
              "      <td>0</td>\n",
              "      <td>1</td>\n",
              "      <td>Yes</td>\n",
              "      <td>Self-employed</td>\n",
              "      <td>Rural</td>\n",
              "      <td>75.32</td>\n",
              "      <td>24.8</td>\n",
              "      <td>Unknown</td>\n",
              "      <td>0</td>\n",
              "    </tr>\n",
              "    <tr>\n",
              "      <th>8</th>\n",
              "      <td>8</td>\n",
              "      <td>Female</td>\n",
              "      <td>45.0</td>\n",
              "      <td>0</td>\n",
              "      <td>0</td>\n",
              "      <td>Yes</td>\n",
              "      <td>Private</td>\n",
              "      <td>Rural</td>\n",
              "      <td>107.22</td>\n",
              "      <td>34.1</td>\n",
              "      <td>never smoked</td>\n",
              "      <td>0</td>\n",
              "    </tr>\n",
              "    <tr>\n",
              "      <th>9</th>\n",
              "      <td>9</td>\n",
              "      <td>Female</td>\n",
              "      <td>62.0</td>\n",
              "      <td>0</td>\n",
              "      <td>0</td>\n",
              "      <td>Yes</td>\n",
              "      <td>Govt_job</td>\n",
              "      <td>Urban</td>\n",
              "      <td>62.68</td>\n",
              "      <td>18.4</td>\n",
              "      <td>formerly smoked</td>\n",
              "      <td>0</td>\n",
              "    </tr>\n",
              "  </tbody>\n",
              "</table>\n",
              "</div>\n",
              "    <div class=\"colab-df-buttons\">\n",
              "\n",
              "  <div class=\"colab-df-container\">\n",
              "    <button class=\"colab-df-convert\" onclick=\"convertToInteractive('df-b48f921d-d40c-4f90-a966-2522b15325bb')\"\n",
              "            title=\"Convert this dataframe to an interactive table.\"\n",
              "            style=\"display:none;\">\n",
              "\n",
              "  <svg xmlns=\"http://www.w3.org/2000/svg\" height=\"24px\" viewBox=\"0 -960 960 960\">\n",
              "    <path d=\"M120-120v-720h720v720H120Zm60-500h600v-160H180v160Zm220 220h160v-160H400v160Zm0 220h160v-160H400v160ZM180-400h160v-160H180v160Zm440 0h160v-160H620v160ZM180-180h160v-160H180v160Zm440 0h160v-160H620v160Z\"/>\n",
              "  </svg>\n",
              "    </button>\n",
              "\n",
              "  <style>\n",
              "    .colab-df-container {\n",
              "      display:flex;\n",
              "      gap: 12px;\n",
              "    }\n",
              "\n",
              "    .colab-df-convert {\n",
              "      background-color: #E8F0FE;\n",
              "      border: none;\n",
              "      border-radius: 50%;\n",
              "      cursor: pointer;\n",
              "      display: none;\n",
              "      fill: #1967D2;\n",
              "      height: 32px;\n",
              "      padding: 0 0 0 0;\n",
              "      width: 32px;\n",
              "    }\n",
              "\n",
              "    .colab-df-convert:hover {\n",
              "      background-color: #E2EBFA;\n",
              "      box-shadow: 0px 1px 2px rgba(60, 64, 67, 0.3), 0px 1px 3px 1px rgba(60, 64, 67, 0.15);\n",
              "      fill: #174EA6;\n",
              "    }\n",
              "\n",
              "    .colab-df-buttons div {\n",
              "      margin-bottom: 4px;\n",
              "    }\n",
              "\n",
              "    [theme=dark] .colab-df-convert {\n",
              "      background-color: #3B4455;\n",
              "      fill: #D2E3FC;\n",
              "    }\n",
              "\n",
              "    [theme=dark] .colab-df-convert:hover {\n",
              "      background-color: #434B5C;\n",
              "      box-shadow: 0px 1px 3px 1px rgba(0, 0, 0, 0.15);\n",
              "      filter: drop-shadow(0px 1px 2px rgba(0, 0, 0, 0.3));\n",
              "      fill: #FFFFFF;\n",
              "    }\n",
              "  </style>\n",
              "\n",
              "    <script>\n",
              "      const buttonEl =\n",
              "        document.querySelector('#df-b48f921d-d40c-4f90-a966-2522b15325bb button.colab-df-convert');\n",
              "      buttonEl.style.display =\n",
              "        google.colab.kernel.accessAllowed ? 'block' : 'none';\n",
              "\n",
              "      async function convertToInteractive(key) {\n",
              "        const element = document.querySelector('#df-b48f921d-d40c-4f90-a966-2522b15325bb');\n",
              "        const dataTable =\n",
              "          await google.colab.kernel.invokeFunction('convertToInteractive',\n",
              "                                                    [key], {});\n",
              "        if (!dataTable) return;\n",
              "\n",
              "        const docLinkHtml = 'Like what you see? Visit the ' +\n",
              "          '<a target=\"_blank\" href=https://colab.research.google.com/notebooks/data_table.ipynb>data table notebook</a>'\n",
              "          + ' to learn more about interactive tables.';\n",
              "        element.innerHTML = '';\n",
              "        dataTable['output_type'] = 'display_data';\n",
              "        await google.colab.output.renderOutput(dataTable, element);\n",
              "        const docLink = document.createElement('div');\n",
              "        docLink.innerHTML = docLinkHtml;\n",
              "        element.appendChild(docLink);\n",
              "      }\n",
              "    </script>\n",
              "  </div>\n",
              "\n",
              "\n",
              "<div id=\"df-6ae26d54-cda6-4038-996b-6c22c7c188b4\">\n",
              "  <button class=\"colab-df-quickchart\" onclick=\"quickchart('df-6ae26d54-cda6-4038-996b-6c22c7c188b4')\"\n",
              "            title=\"Suggest charts\"\n",
              "            style=\"display:none;\">\n",
              "\n",
              "<svg xmlns=\"http://www.w3.org/2000/svg\" height=\"24px\"viewBox=\"0 0 24 24\"\n",
              "     width=\"24px\">\n",
              "    <g>\n",
              "        <path d=\"M19 3H5c-1.1 0-2 .9-2 2v14c0 1.1.9 2 2 2h14c1.1 0 2-.9 2-2V5c0-1.1-.9-2-2-2zM9 17H7v-7h2v7zm4 0h-2V7h2v10zm4 0h-2v-4h2v4z\"/>\n",
              "    </g>\n",
              "</svg>\n",
              "  </button>\n",
              "\n",
              "<style>\n",
              "  .colab-df-quickchart {\n",
              "      --bg-color: #E8F0FE;\n",
              "      --fill-color: #1967D2;\n",
              "      --hover-bg-color: #E2EBFA;\n",
              "      --hover-fill-color: #174EA6;\n",
              "      --disabled-fill-color: #AAA;\n",
              "      --disabled-bg-color: #DDD;\n",
              "  }\n",
              "\n",
              "  [theme=dark] .colab-df-quickchart {\n",
              "      --bg-color: #3B4455;\n",
              "      --fill-color: #D2E3FC;\n",
              "      --hover-bg-color: #434B5C;\n",
              "      --hover-fill-color: #FFFFFF;\n",
              "      --disabled-bg-color: #3B4455;\n",
              "      --disabled-fill-color: #666;\n",
              "  }\n",
              "\n",
              "  .colab-df-quickchart {\n",
              "    background-color: var(--bg-color);\n",
              "    border: none;\n",
              "    border-radius: 50%;\n",
              "    cursor: pointer;\n",
              "    display: none;\n",
              "    fill: var(--fill-color);\n",
              "    height: 32px;\n",
              "    padding: 0;\n",
              "    width: 32px;\n",
              "  }\n",
              "\n",
              "  .colab-df-quickchart:hover {\n",
              "    background-color: var(--hover-bg-color);\n",
              "    box-shadow: 0 1px 2px rgba(60, 64, 67, 0.3), 0 1px 3px 1px rgba(60, 64, 67, 0.15);\n",
              "    fill: var(--button-hover-fill-color);\n",
              "  }\n",
              "\n",
              "  .colab-df-quickchart-complete:disabled,\n",
              "  .colab-df-quickchart-complete:disabled:hover {\n",
              "    background-color: var(--disabled-bg-color);\n",
              "    fill: var(--disabled-fill-color);\n",
              "    box-shadow: none;\n",
              "  }\n",
              "\n",
              "  .colab-df-spinner {\n",
              "    border: 2px solid var(--fill-color);\n",
              "    border-color: transparent;\n",
              "    border-bottom-color: var(--fill-color);\n",
              "    animation:\n",
              "      spin 1s steps(1) infinite;\n",
              "  }\n",
              "\n",
              "  @keyframes spin {\n",
              "    0% {\n",
              "      border-color: transparent;\n",
              "      border-bottom-color: var(--fill-color);\n",
              "      border-left-color: var(--fill-color);\n",
              "    }\n",
              "    20% {\n",
              "      border-color: transparent;\n",
              "      border-left-color: var(--fill-color);\n",
              "      border-top-color: var(--fill-color);\n",
              "    }\n",
              "    30% {\n",
              "      border-color: transparent;\n",
              "      border-left-color: var(--fill-color);\n",
              "      border-top-color: var(--fill-color);\n",
              "      border-right-color: var(--fill-color);\n",
              "    }\n",
              "    40% {\n",
              "      border-color: transparent;\n",
              "      border-right-color: var(--fill-color);\n",
              "      border-top-color: var(--fill-color);\n",
              "    }\n",
              "    60% {\n",
              "      border-color: transparent;\n",
              "      border-right-color: var(--fill-color);\n",
              "    }\n",
              "    80% {\n",
              "      border-color: transparent;\n",
              "      border-right-color: var(--fill-color);\n",
              "      border-bottom-color: var(--fill-color);\n",
              "    }\n",
              "    90% {\n",
              "      border-color: transparent;\n",
              "      border-bottom-color: var(--fill-color);\n",
              "    }\n",
              "  }\n",
              "</style>\n",
              "\n",
              "  <script>\n",
              "    async function quickchart(key) {\n",
              "      const quickchartButtonEl =\n",
              "        document.querySelector('#' + key + ' button');\n",
              "      quickchartButtonEl.disabled = true;  // To prevent multiple clicks.\n",
              "      quickchartButtonEl.classList.add('colab-df-spinner');\n",
              "      try {\n",
              "        const charts = await google.colab.kernel.invokeFunction(\n",
              "            'suggestCharts', [key], {});\n",
              "      } catch (error) {\n",
              "        console.error('Error during call to suggestCharts:', error);\n",
              "      }\n",
              "      quickchartButtonEl.classList.remove('colab-df-spinner');\n",
              "      quickchartButtonEl.classList.add('colab-df-quickchart-complete');\n",
              "    }\n",
              "    (() => {\n",
              "      let quickchartButtonEl =\n",
              "        document.querySelector('#df-6ae26d54-cda6-4038-996b-6c22c7c188b4 button');\n",
              "      quickchartButtonEl.style.display =\n",
              "        google.colab.kernel.accessAllowed ? 'block' : 'none';\n",
              "    })();\n",
              "  </script>\n",
              "</div>\n",
              "\n",
              "    </div>\n",
              "  </div>\n"
            ],
            "application/vnd.google.colaboratory.intrinsic+json": {
              "type": "dataframe",
              "variable_name": "df",
              "summary": "{\n  \"name\": \"df\",\n  \"rows\": 15304,\n  \"fields\": [\n    {\n      \"column\": \"id\",\n      \"properties\": {\n        \"dtype\": \"number\",\n        \"std\": 4418,\n        \"min\": 0,\n        \"max\": 15303,\n        \"num_unique_values\": 15304,\n        \"samples\": [\n          12100,\n          10072,\n          4397\n        ],\n        \"semantic_type\": \"\",\n        \"description\": \"\"\n      }\n    },\n    {\n      \"column\": \"gender\",\n      \"properties\": {\n        \"dtype\": \"category\",\n        \"num_unique_values\": 3,\n        \"samples\": [\n          \"Male\",\n          \"Female\",\n          \"Other\"\n        ],\n        \"semantic_type\": \"\",\n        \"description\": \"\"\n      }\n    },\n    {\n      \"column\": \"age\",\n      \"properties\": {\n        \"dtype\": \"number\",\n        \"std\": 21.44467331631995,\n        \"min\": 0.08,\n        \"max\": 82.0,\n        \"num_unique_values\": 106,\n        \"samples\": [\n          1.56,\n          51.0,\n          24.0\n        ],\n        \"semantic_type\": \"\",\n        \"description\": \"\"\n      }\n    },\n    {\n      \"column\": \"hypertension\",\n      \"properties\": {\n        \"dtype\": \"number\",\n        \"std\": 0,\n        \"min\": 0,\n        \"max\": 1,\n        \"num_unique_values\": 2,\n        \"samples\": [\n          1,\n          0\n        ],\n        \"semantic_type\": \"\",\n        \"description\": \"\"\n      }\n    },\n    {\n      \"column\": \"heart_disease\",\n      \"properties\": {\n        \"dtype\": \"number\",\n        \"std\": 0,\n        \"min\": 0,\n        \"max\": 1,\n        \"num_unique_values\": 2,\n        \"samples\": [\n          1,\n          0\n        ],\n        \"semantic_type\": \"\",\n        \"description\": \"\"\n      }\n    },\n    {\n      \"column\": \"ever_married\",\n      \"properties\": {\n        \"dtype\": \"category\",\n        \"num_unique_values\": 2,\n        \"samples\": [\n          \"No\",\n          \"Yes\"\n        ],\n        \"semantic_type\": \"\",\n        \"description\": \"\"\n      }\n    },\n    {\n      \"column\": \"work_type\",\n      \"properties\": {\n        \"dtype\": \"category\",\n        \"num_unique_values\": 5,\n        \"samples\": [\n          \"Self-employed\",\n          \"Never_worked\"\n        ],\n        \"semantic_type\": \"\",\n        \"description\": \"\"\n      }\n    },\n    {\n      \"column\": \"Residence_type\",\n      \"properties\": {\n        \"dtype\": \"category\",\n        \"num_unique_values\": 2,\n        \"samples\": [\n          \"Rural\",\n          \"Urban\"\n        ],\n        \"semantic_type\": \"\",\n        \"description\": \"\"\n      }\n    },\n    {\n      \"column\": \"avg_glucose_level\",\n      \"properties\": {\n        \"dtype\": \"number\",\n        \"std\": 25.476101984609272,\n        \"min\": 55.22,\n        \"max\": 267.6,\n        \"num_unique_values\": 3740,\n        \"samples\": [\n          123.21,\n          99.3\n        ],\n        \"semantic_type\": \"\",\n        \"description\": \"\"\n      }\n    },\n    {\n      \"column\": \"bmi\",\n      \"properties\": {\n        \"dtype\": \"number\",\n        \"std\": 6.722315422227781,\n        \"min\": 10.3,\n        \"max\": 80.1,\n        \"num_unique_values\": 407,\n        \"samples\": [\n          31.3,\n          44.4\n        ],\n        \"semantic_type\": \"\",\n        \"description\": \"\"\n      }\n    },\n    {\n      \"column\": \"smoking_status\",\n      \"properties\": {\n        \"dtype\": \"category\",\n        \"num_unique_values\": 4,\n        \"samples\": [\n          \"formerly smoked\",\n          \"smokes\"\n        ],\n        \"semantic_type\": \"\",\n        \"description\": \"\"\n      }\n    },\n    {\n      \"column\": \"stroke\",\n      \"properties\": {\n        \"dtype\": \"number\",\n        \"std\": 0,\n        \"min\": 0,\n        \"max\": 1,\n        \"num_unique_values\": 2,\n        \"samples\": [\n          1,\n          0\n        ],\n        \"semantic_type\": \"\",\n        \"description\": \"\"\n      }\n    }\n  ]\n}"
            }
          },
          "metadata": {},
          "execution_count": 5
        }
      ],
      "execution_count": null
    },
    {
      "cell_type": "markdown",
      "source": [
        "### Dataset Information <a class=\"anchor\" id=\"sec1.3\"></a>"
      ],
      "metadata": {
        "id": "lle0veWPXizC"
      }
    },
    {
      "cell_type": "code",
      "source": [
        "df.info()"
      ],
      "metadata": {
        "execution": {
          "iopub.status.busy": "2024-11-10T07:45:30.957571Z",
          "iopub.execute_input": "2024-11-10T07:45:30.958068Z",
          "iopub.status.idle": "2024-11-10T07:45:30.996776Z",
          "shell.execute_reply.started": "2024-11-10T07:45:30.958030Z",
          "shell.execute_reply": "2024-11-10T07:45:30.995506Z"
        },
        "trusted": true,
        "id": "yKHZBZd6XizC",
        "outputId": "03e098fd-0fe6-4069-a190-059f49b6bafa",
        "colab": {
          "base_uri": "https://localhost:8080/"
        }
      },
      "outputs": [
        {
          "output_type": "stream",
          "name": "stdout",
          "text": [
            "<class 'pandas.core.frame.DataFrame'>\n",
            "RangeIndex: 15304 entries, 0 to 15303\n",
            "Data columns (total 12 columns):\n",
            " #   Column             Non-Null Count  Dtype  \n",
            "---  ------             --------------  -----  \n",
            " 0   id                 15304 non-null  int64  \n",
            " 1   gender             15304 non-null  object \n",
            " 2   age                15304 non-null  float64\n",
            " 3   hypertension       15304 non-null  int64  \n",
            " 4   heart_disease      15304 non-null  int64  \n",
            " 5   ever_married       15304 non-null  object \n",
            " 6   work_type          15304 non-null  object \n",
            " 7   Residence_type     15304 non-null  object \n",
            " 8   avg_glucose_level  15304 non-null  float64\n",
            " 9   bmi                15304 non-null  float64\n",
            " 10  smoking_status     15304 non-null  object \n",
            " 11  stroke             15304 non-null  int64  \n",
            "dtypes: float64(3), int64(4), object(5)\n",
            "memory usage: 1.4+ MB\n"
          ]
        }
      ],
      "execution_count": null
    },
    {
      "cell_type": "markdown",
      "source": [
        "### Summary Statistics <a class=\"anchor\" id=\"sec1.4\"></a>"
      ],
      "metadata": {
        "id": "KihiCAKFXizC"
      }
    },
    {
      "cell_type": "markdown",
      "source": [
        "<html>\n",
        "<p style=\"color:chocolate;font-size:150%;\">\n",
        "    <b>Brief Information of different descriptive statistics-</b></p>\n",
        "<p style=\"border:4px solid violet;color:green;background-color:tan;\">\n",
        "    *<b>Measures of Frequency</b>              :- Count, Percent, Frequency.<br>\n",
        "    *<b>Measures of Central Tendency</b>       :- Mean, Median, and Mode.<br>\n",
        "    *<b>Measures of Dispersion or Variation</b>:- Range(min,max),Variance, Standard Deviation.<br>\n",
        "    *<b>Measures of Position</b>               :- Percentile Ranks, Quartile Ranks.</p>\n",
        "</html>"
      ],
      "metadata": {
        "id": "nn_hGM16XizC"
      }
    },
    {
      "cell_type": "code",
      "source": [
        "df.describe().style.background_gradient()"
      ],
      "metadata": {
        "execution": {
          "iopub.status.busy": "2024-11-10T07:45:30.998526Z",
          "iopub.execute_input": "2024-11-10T07:45:30.999015Z",
          "iopub.status.idle": "2024-11-10T07:45:31.129977Z",
          "shell.execute_reply.started": "2024-11-10T07:45:30.998969Z",
          "shell.execute_reply": "2024-11-10T07:45:31.128715Z"
        },
        "trusted": true,
        "id": "HrZPcg0GXizC",
        "outputId": "59134963-6e91-4826-b9a8-68d1c1e3f231",
        "colab": {
          "base_uri": "https://localhost:8080/",
          "height": 300
        }
      },
      "outputs": [
        {
          "output_type": "execute_result",
          "data": {
            "text/plain": [
              "<pandas.io.formats.style.Styler at 0x7d3d458c7b50>"
            ],
            "text/html": [
              "<style type=\"text/css\">\n",
              "#T_2445a_row0_col0, #T_2445a_row0_col1, #T_2445a_row0_col2, #T_2445a_row0_col3, #T_2445a_row0_col4, #T_2445a_row0_col5, #T_2445a_row0_col6, #T_2445a_row7_col0 {\n",
              "  background-color: #023858;\n",
              "  color: #f1f1f1;\n",
              "}\n",
              "#T_2445a_row1_col0, #T_2445a_row5_col0 {\n",
              "  background-color: #75a9cf;\n",
              "  color: #f1f1f1;\n",
              "}\n",
              "#T_2445a_row1_col1, #T_2445a_row1_col2, #T_2445a_row1_col3, #T_2445a_row1_col5, #T_2445a_row1_col6, #T_2445a_row2_col1, #T_2445a_row2_col2, #T_2445a_row2_col3, #T_2445a_row2_col4, #T_2445a_row2_col5, #T_2445a_row2_col6, #T_2445a_row3_col0, #T_2445a_row3_col1, #T_2445a_row3_col2, #T_2445a_row3_col3, #T_2445a_row3_col4, #T_2445a_row3_col5, #T_2445a_row3_col6, #T_2445a_row4_col1, #T_2445a_row4_col2, #T_2445a_row4_col3, #T_2445a_row4_col4, #T_2445a_row4_col5, #T_2445a_row4_col6, #T_2445a_row5_col1, #T_2445a_row5_col2, #T_2445a_row5_col3, #T_2445a_row5_col4, #T_2445a_row5_col5, #T_2445a_row5_col6, #T_2445a_row6_col1, #T_2445a_row6_col2, #T_2445a_row6_col3, #T_2445a_row6_col5, #T_2445a_row6_col6, #T_2445a_row7_col2, #T_2445a_row7_col3, #T_2445a_row7_col6 {\n",
              "  background-color: #fff7fb;\n",
              "  color: #000000;\n",
              "}\n",
              "#T_2445a_row1_col4, #T_2445a_row6_col4, #T_2445a_row7_col1, #T_2445a_row7_col5 {\n",
              "  background-color: #fef6fb;\n",
              "  color: #000000;\n",
              "}\n",
              "#T_2445a_row2_col0 {\n",
              "  background-color: #c4cbe3;\n",
              "  color: #000000;\n",
              "}\n",
              "#T_2445a_row4_col0 {\n",
              "  background-color: #d1d2e6;\n",
              "  color: #000000;\n",
              "}\n",
              "#T_2445a_row6_col0 {\n",
              "  background-color: #0570b0;\n",
              "  color: #f1f1f1;\n",
              "}\n",
              "#T_2445a_row7_col4 {\n",
              "  background-color: #fdf5fa;\n",
              "  color: #000000;\n",
              "}\n",
              "</style>\n",
              "<table id=\"T_2445a\" class=\"dataframe\">\n",
              "  <thead>\n",
              "    <tr>\n",
              "      <th class=\"blank level0\" >&nbsp;</th>\n",
              "      <th id=\"T_2445a_level0_col0\" class=\"col_heading level0 col0\" >id</th>\n",
              "      <th id=\"T_2445a_level0_col1\" class=\"col_heading level0 col1\" >age</th>\n",
              "      <th id=\"T_2445a_level0_col2\" class=\"col_heading level0 col2\" >hypertension</th>\n",
              "      <th id=\"T_2445a_level0_col3\" class=\"col_heading level0 col3\" >heart_disease</th>\n",
              "      <th id=\"T_2445a_level0_col4\" class=\"col_heading level0 col4\" >avg_glucose_level</th>\n",
              "      <th id=\"T_2445a_level0_col5\" class=\"col_heading level0 col5\" >bmi</th>\n",
              "      <th id=\"T_2445a_level0_col6\" class=\"col_heading level0 col6\" >stroke</th>\n",
              "    </tr>\n",
              "  </thead>\n",
              "  <tbody>\n",
              "    <tr>\n",
              "      <th id=\"T_2445a_level0_row0\" class=\"row_heading level0 row0\" >count</th>\n",
              "      <td id=\"T_2445a_row0_col0\" class=\"data row0 col0\" >15304.000000</td>\n",
              "      <td id=\"T_2445a_row0_col1\" class=\"data row0 col1\" >15304.000000</td>\n",
              "      <td id=\"T_2445a_row0_col2\" class=\"data row0 col2\" >15304.000000</td>\n",
              "      <td id=\"T_2445a_row0_col3\" class=\"data row0 col3\" >15304.000000</td>\n",
              "      <td id=\"T_2445a_row0_col4\" class=\"data row0 col4\" >15304.000000</td>\n",
              "      <td id=\"T_2445a_row0_col5\" class=\"data row0 col5\" >15304.000000</td>\n",
              "      <td id=\"T_2445a_row0_col6\" class=\"data row0 col6\" >15304.000000</td>\n",
              "    </tr>\n",
              "    <tr>\n",
              "      <th id=\"T_2445a_level0_row1\" class=\"row_heading level0 row1\" >mean</th>\n",
              "      <td id=\"T_2445a_row1_col0\" class=\"data row1 col0\" >7651.500000</td>\n",
              "      <td id=\"T_2445a_row1_col1\" class=\"data row1 col1\" >41.417708</td>\n",
              "      <td id=\"T_2445a_row1_col2\" class=\"data row1 col2\" >0.049726</td>\n",
              "      <td id=\"T_2445a_row1_col3\" class=\"data row1 col3\" >0.023327</td>\n",
              "      <td id=\"T_2445a_row1_col4\" class=\"data row1 col4\" >89.039853</td>\n",
              "      <td id=\"T_2445a_row1_col5\" class=\"data row1 col5\" >28.112721</td>\n",
              "      <td id=\"T_2445a_row1_col6\" class=\"data row1 col6\" >0.041296</td>\n",
              "    </tr>\n",
              "    <tr>\n",
              "      <th id=\"T_2445a_level0_row2\" class=\"row_heading level0 row2\" >std</th>\n",
              "      <td id=\"T_2445a_row2_col0\" class=\"data row2 col0\" >4418.028595</td>\n",
              "      <td id=\"T_2445a_row2_col1\" class=\"data row2 col1\" >21.444673</td>\n",
              "      <td id=\"T_2445a_row2_col2\" class=\"data row2 col2\" >0.217384</td>\n",
              "      <td id=\"T_2445a_row2_col3\" class=\"data row2 col3\" >0.150946</td>\n",
              "      <td id=\"T_2445a_row2_col4\" class=\"data row2 col4\" >25.476102</td>\n",
              "      <td id=\"T_2445a_row2_col5\" class=\"data row2 col5\" >6.722315</td>\n",
              "      <td id=\"T_2445a_row2_col6\" class=\"data row2 col6\" >0.198981</td>\n",
              "    </tr>\n",
              "    <tr>\n",
              "      <th id=\"T_2445a_level0_row3\" class=\"row_heading level0 row3\" >min</th>\n",
              "      <td id=\"T_2445a_row3_col0\" class=\"data row3 col0\" >0.000000</td>\n",
              "      <td id=\"T_2445a_row3_col1\" class=\"data row3 col1\" >0.080000</td>\n",
              "      <td id=\"T_2445a_row3_col2\" class=\"data row3 col2\" >0.000000</td>\n",
              "      <td id=\"T_2445a_row3_col3\" class=\"data row3 col3\" >0.000000</td>\n",
              "      <td id=\"T_2445a_row3_col4\" class=\"data row3 col4\" >55.220000</td>\n",
              "      <td id=\"T_2445a_row3_col5\" class=\"data row3 col5\" >10.300000</td>\n",
              "      <td id=\"T_2445a_row3_col6\" class=\"data row3 col6\" >0.000000</td>\n",
              "    </tr>\n",
              "    <tr>\n",
              "      <th id=\"T_2445a_level0_row4\" class=\"row_heading level0 row4\" >25%</th>\n",
              "      <td id=\"T_2445a_row4_col0\" class=\"data row4 col0\" >3825.750000</td>\n",
              "      <td id=\"T_2445a_row4_col1\" class=\"data row4 col1\" >26.000000</td>\n",
              "      <td id=\"T_2445a_row4_col2\" class=\"data row4 col2\" >0.000000</td>\n",
              "      <td id=\"T_2445a_row4_col3\" class=\"data row4 col3\" >0.000000</td>\n",
              "      <td id=\"T_2445a_row4_col4\" class=\"data row4 col4\" >74.900000</td>\n",
              "      <td id=\"T_2445a_row4_col5\" class=\"data row4 col5\" >23.500000</td>\n",
              "      <td id=\"T_2445a_row4_col6\" class=\"data row4 col6\" >0.000000</td>\n",
              "    </tr>\n",
              "    <tr>\n",
              "      <th id=\"T_2445a_level0_row5\" class=\"row_heading level0 row5\" >50%</th>\n",
              "      <td id=\"T_2445a_row5_col0\" class=\"data row5 col0\" >7651.500000</td>\n",
              "      <td id=\"T_2445a_row5_col1\" class=\"data row5 col1\" >43.000000</td>\n",
              "      <td id=\"T_2445a_row5_col2\" class=\"data row5 col2\" >0.000000</td>\n",
              "      <td id=\"T_2445a_row5_col3\" class=\"data row5 col3\" >0.000000</td>\n",
              "      <td id=\"T_2445a_row5_col4\" class=\"data row5 col4\" >85.120000</td>\n",
              "      <td id=\"T_2445a_row5_col5\" class=\"data row5 col5\" >27.600000</td>\n",
              "      <td id=\"T_2445a_row5_col6\" class=\"data row5 col6\" >0.000000</td>\n",
              "    </tr>\n",
              "    <tr>\n",
              "      <th id=\"T_2445a_level0_row6\" class=\"row_heading level0 row6\" >75%</th>\n",
              "      <td id=\"T_2445a_row6_col0\" class=\"data row6 col0\" >11477.250000</td>\n",
              "      <td id=\"T_2445a_row6_col1\" class=\"data row6 col1\" >57.000000</td>\n",
              "      <td id=\"T_2445a_row6_col2\" class=\"data row6 col2\" >0.000000</td>\n",
              "      <td id=\"T_2445a_row6_col3\" class=\"data row6 col3\" >0.000000</td>\n",
              "      <td id=\"T_2445a_row6_col4\" class=\"data row6 col4\" >96.980000</td>\n",
              "      <td id=\"T_2445a_row6_col5\" class=\"data row6 col5\" >32.000000</td>\n",
              "      <td id=\"T_2445a_row6_col6\" class=\"data row6 col6\" >0.000000</td>\n",
              "    </tr>\n",
              "    <tr>\n",
              "      <th id=\"T_2445a_level0_row7\" class=\"row_heading level0 row7\" >max</th>\n",
              "      <td id=\"T_2445a_row7_col0\" class=\"data row7 col0\" >15303.000000</td>\n",
              "      <td id=\"T_2445a_row7_col1\" class=\"data row7 col1\" >82.000000</td>\n",
              "      <td id=\"T_2445a_row7_col2\" class=\"data row7 col2\" >1.000000</td>\n",
              "      <td id=\"T_2445a_row7_col3\" class=\"data row7 col3\" >1.000000</td>\n",
              "      <td id=\"T_2445a_row7_col4\" class=\"data row7 col4\" >267.600000</td>\n",
              "      <td id=\"T_2445a_row7_col5\" class=\"data row7 col5\" >80.100000</td>\n",
              "      <td id=\"T_2445a_row7_col6\" class=\"data row7 col6\" >1.000000</td>\n",
              "    </tr>\n",
              "  </tbody>\n",
              "</table>\n"
            ]
          },
          "metadata": {},
          "execution_count": 7
        }
      ],
      "execution_count": null
    },
    {
      "cell_type": "markdown",
      "source": [
        "### Checking for unique values in all attribute <a class=\"anchor\" id=\"sec1.5\"></a>"
      ],
      "metadata": {
        "id": "tk7LUPJcXizD"
      }
    },
    {
      "cell_type": "code",
      "source": [
        "df.nunique().sort_values(ascending=True)"
      ],
      "metadata": {
        "execution": {
          "iopub.status.busy": "2024-11-10T07:45:31.131734Z",
          "iopub.execute_input": "2024-11-10T07:45:31.132165Z",
          "iopub.status.idle": "2024-11-10T07:45:31.155490Z",
          "shell.execute_reply.started": "2024-11-10T07:45:31.132130Z",
          "shell.execute_reply": "2024-11-10T07:45:31.154232Z"
        },
        "trusted": true,
        "id": "qKyalaMKXizD",
        "outputId": "d4303bbd-ce97-4207-8ae3-c287ae8bf4ab",
        "colab": {
          "base_uri": "https://localhost:8080/",
          "height": 460
        }
      },
      "outputs": [
        {
          "output_type": "execute_result",
          "data": {
            "text/plain": [
              "hypertension             2\n",
              "heart_disease            2\n",
              "ever_married             2\n",
              "Residence_type           2\n",
              "stroke                   2\n",
              "gender                   3\n",
              "smoking_status           4\n",
              "work_type                5\n",
              "age                    106\n",
              "bmi                    407\n",
              "avg_glucose_level     3740\n",
              "id                   15304\n",
              "dtype: int64"
            ],
            "text/html": [
              "<div>\n",
              "<style scoped>\n",
              "    .dataframe tbody tr th:only-of-type {\n",
              "        vertical-align: middle;\n",
              "    }\n",
              "\n",
              "    .dataframe tbody tr th {\n",
              "        vertical-align: top;\n",
              "    }\n",
              "\n",
              "    .dataframe thead th {\n",
              "        text-align: right;\n",
              "    }\n",
              "</style>\n",
              "<table border=\"1\" class=\"dataframe\">\n",
              "  <thead>\n",
              "    <tr style=\"text-align: right;\">\n",
              "      <th></th>\n",
              "      <th>0</th>\n",
              "    </tr>\n",
              "  </thead>\n",
              "  <tbody>\n",
              "    <tr>\n",
              "      <th>hypertension</th>\n",
              "      <td>2</td>\n",
              "    </tr>\n",
              "    <tr>\n",
              "      <th>heart_disease</th>\n",
              "      <td>2</td>\n",
              "    </tr>\n",
              "    <tr>\n",
              "      <th>ever_married</th>\n",
              "      <td>2</td>\n",
              "    </tr>\n",
              "    <tr>\n",
              "      <th>Residence_type</th>\n",
              "      <td>2</td>\n",
              "    </tr>\n",
              "    <tr>\n",
              "      <th>stroke</th>\n",
              "      <td>2</td>\n",
              "    </tr>\n",
              "    <tr>\n",
              "      <th>gender</th>\n",
              "      <td>3</td>\n",
              "    </tr>\n",
              "    <tr>\n",
              "      <th>smoking_status</th>\n",
              "      <td>4</td>\n",
              "    </tr>\n",
              "    <tr>\n",
              "      <th>work_type</th>\n",
              "      <td>5</td>\n",
              "    </tr>\n",
              "    <tr>\n",
              "      <th>age</th>\n",
              "      <td>106</td>\n",
              "    </tr>\n",
              "    <tr>\n",
              "      <th>bmi</th>\n",
              "      <td>407</td>\n",
              "    </tr>\n",
              "    <tr>\n",
              "      <th>avg_glucose_level</th>\n",
              "      <td>3740</td>\n",
              "    </tr>\n",
              "    <tr>\n",
              "      <th>id</th>\n",
              "      <td>15304</td>\n",
              "    </tr>\n",
              "  </tbody>\n",
              "</table>\n",
              "</div><br><label><b>dtype:</b> int64</label>"
            ]
          },
          "metadata": {},
          "execution_count": 8
        }
      ],
      "execution_count": null
    },
    {
      "cell_type": "markdown",
      "source": [
        "### percentage of missing values in each column <a class=\"anchor\" id=\"sec1.7\"></a>"
      ],
      "metadata": {
        "id": "62pqF1x9XizE"
      }
    },
    {
      "cell_type": "code",
      "source": [
        "pd.options.display.float_format = '{:,.2f} %'.format\n",
        "print((df.isnull().sum()/len(df))*100)\n",
        "pd.options.display.float_format = '{:,.2f}'.format"
      ],
      "metadata": {
        "execution": {
          "iopub.status.busy": "2024-11-10T07:45:31.193050Z",
          "iopub.execute_input": "2024-11-10T07:45:31.194159Z",
          "iopub.status.idle": "2024-11-10T07:45:31.214631Z",
          "shell.execute_reply.started": "2024-11-10T07:45:31.194110Z",
          "shell.execute_reply": "2024-11-10T07:45:31.213184Z"
        },
        "trusted": true,
        "id": "Z8mSCx2ZXizE",
        "outputId": "fbc11de3-4d98-4e6e-b5f9-29b3f36e9ff4",
        "colab": {
          "base_uri": "https://localhost:8080/"
        }
      },
      "outputs": [
        {
          "output_type": "stream",
          "name": "stdout",
          "text": [
            "id                  0.00 %\n",
            "gender              0.00 %\n",
            "age                 0.00 %\n",
            "hypertension        0.00 %\n",
            "heart_disease       0.00 %\n",
            "ever_married        0.00 %\n",
            "work_type           0.00 %\n",
            "Residence_type      0.00 %\n",
            "avg_glucose_level   0.00 %\n",
            "bmi                 0.00 %\n",
            "smoking_status      0.00 %\n",
            "stroke              0.00 %\n",
            "dtype: float64\n"
          ]
        }
      ],
      "execution_count": null
    },
    {
      "cell_type": "markdown",
      "source": [
        "### Feature Selection <a class=\"anchor\" id=\"sec3\"></a>"
      ],
      "metadata": {
        "id": "XIESsIvjXizL"
      }
    },
    {
      "cell_type": "markdown",
      "source": [
        "<html>\n",
        "<p style=\"color:chocolate;font-size:150%;\">\n",
        "    <b>Feature Selection-</b></p>\n",
        "<p style=\"border:4px solid violet;color:green;background-color:tan;\">\n",
        "    Feature selection methods are intended to reduce the number of input variables to those that are believed to be most useful to a model in order to predict the target variable..</p>\n",
        "<img src=\"https://lh6.googleusercontent.com/exNj6JGWZNAzyB8XXd1LM5FrgMGbfyV09Qgts5bPJA14O7-8AqATF9suuWqYo6oYhOk=w2400\" alt=\"Computer man\" style=\"width:800px;height:300px;\"/>\n",
        " </html>"
      ],
      "metadata": {
        "execution": {
          "iopub.execute_input": "2022-08-14T06:40:18.903852Z",
          "iopub.status.busy": "2022-08-14T06:40:18.903114Z",
          "iopub.status.idle": "2022-08-14T06:40:18.913213Z",
          "shell.execute_reply": "2022-08-14T06:40:18.911852Z",
          "shell.execute_reply.started": "2022-08-14T06:40:18.903803Z"
        },
        "id": "GVseu_ojXizL"
      }
    },
    {
      "cell_type": "markdown",
      "source": [
        "<html>\n",
        "<p style=\"border:4px solid violet;color:green;background-color:tan;\">\n",
        "    In our dataset we have numerical Input variable and Categorical Output variable.so we will use <b>ANOVA</b> for the feature selection.</p>"
      ],
      "metadata": {
        "id": "qmiFXdUoXizL"
      }
    },
    {
      "cell_type": "code",
      "source": [
        "from sklearn.feature_selection import SelectKBest\n",
        "from sklearn.feature_selection import f_classif#ANOVA"
      ],
      "metadata": {
        "execution": {
          "iopub.status.busy": "2024-11-10T07:45:38.222369Z",
          "iopub.execute_input": "2024-11-10T07:45:38.222733Z",
          "iopub.status.idle": "2024-11-10T07:45:38.523106Z",
          "shell.execute_reply.started": "2024-11-10T07:45:38.222699Z",
          "shell.execute_reply": "2024-11-10T07:45:38.522009Z"
        },
        "trusted": true,
        "id": "tNSrW6h8XizL"
      },
      "outputs": [],
      "execution_count": null
    },
    {
      "cell_type": "code",
      "source": [
        "fs = SelectKBest(score_func=f_classif, k='all')\n",
        "x=df.iloc[:,1:-1]\n",
        "y=df.iloc[:,-1]\n",
        "fs.fit(X, y)"
      ],
      "metadata": {
        "execution": {
          "iopub.status.busy": "2024-11-10T07:45:38.524608Z",
          "iopub.execute_input": "2024-11-10T07:45:38.525066Z",
          "iopub.status.idle": "2024-11-10T07:45:38.548453Z",
          "shell.execute_reply.started": "2024-11-10T07:45:38.525022Z",
          "shell.execute_reply": "2024-11-10T07:45:38.547279Z"
        },
        "trusted": true,
        "id": "mpbJhL_LXizL",
        "outputId": "e8b37290-4625-454f-c848-fc562e3fbf7f",
        "colab": {
          "base_uri": "https://localhost:8080/",
          "height": 176
        }
      },
      "outputs": [
        {
          "output_type": "error",
          "ename": "NameError",
          "evalue": "name 'X' is not defined",
          "traceback": [
            "\u001b[0;31m---------------------------------------------------------------------------\u001b[0m",
            "\u001b[0;31mNameError\u001b[0m                                 Traceback (most recent call last)",
            "\u001b[0;32m<ipython-input-12-1776c471ee65>\u001b[0m in \u001b[0;36m<cell line: 4>\u001b[0;34m()\u001b[0m\n\u001b[1;32m      2\u001b[0m \u001b[0mx\u001b[0m\u001b[0;34m=\u001b[0m\u001b[0mdf\u001b[0m\u001b[0;34m.\u001b[0m\u001b[0miloc\u001b[0m\u001b[0;34m[\u001b[0m\u001b[0;34m:\u001b[0m\u001b[0;34m,\u001b[0m\u001b[0;36m1\u001b[0m\u001b[0;34m:\u001b[0m\u001b[0;34m-\u001b[0m\u001b[0;36m1\u001b[0m\u001b[0;34m]\u001b[0m\u001b[0;34m\u001b[0m\u001b[0;34m\u001b[0m\u001b[0m\n\u001b[1;32m      3\u001b[0m \u001b[0my\u001b[0m\u001b[0;34m=\u001b[0m\u001b[0mdf\u001b[0m\u001b[0;34m.\u001b[0m\u001b[0miloc\u001b[0m\u001b[0;34m[\u001b[0m\u001b[0;34m:\u001b[0m\u001b[0;34m,\u001b[0m\u001b[0;34m-\u001b[0m\u001b[0;36m1\u001b[0m\u001b[0;34m]\u001b[0m\u001b[0;34m\u001b[0m\u001b[0;34m\u001b[0m\u001b[0m\n\u001b[0;32m----> 4\u001b[0;31m \u001b[0mfs\u001b[0m\u001b[0;34m.\u001b[0m\u001b[0mfit\u001b[0m\u001b[0;34m(\u001b[0m\u001b[0mX\u001b[0m\u001b[0;34m,\u001b[0m \u001b[0my\u001b[0m\u001b[0;34m)\u001b[0m\u001b[0;34m\u001b[0m\u001b[0;34m\u001b[0m\u001b[0m\n\u001b[0m",
            "\u001b[0;31mNameError\u001b[0m: name 'X' is not defined"
          ]
        }
      ],
      "execution_count": null
    },
    {
      "cell_type": "code",
      "source": [
        "feature_contribution=(fs.scores_/sum(fs.scores_))*100"
      ],
      "metadata": {
        "execution": {
          "iopub.status.busy": "2024-11-10T07:45:38.549892Z",
          "iopub.execute_input": "2024-11-10T07:45:38.550307Z",
          "iopub.status.idle": "2024-11-10T07:45:38.555856Z",
          "shell.execute_reply.started": "2024-11-10T07:45:38.550257Z",
          "shell.execute_reply": "2024-11-10T07:45:38.554631Z"
        },
        "trusted": true,
        "id": "2riuVC9UXizL",
        "colab": {
          "base_uri": "https://localhost:8080/",
          "height": 141
        },
        "outputId": "3a7fca5d-cefc-40d7-bc8b-88d73c9ba1d8"
      },
      "outputs": [
        {
          "output_type": "error",
          "ename": "AttributeError",
          "evalue": "'SelectKBest' object has no attribute 'scores_'",
          "traceback": [
            "\u001b[0;31m---------------------------------------------------------------------------\u001b[0m",
            "\u001b[0;31mAttributeError\u001b[0m                            Traceback (most recent call last)",
            "\u001b[0;32m<ipython-input-14-e64220952cab>\u001b[0m in \u001b[0;36m<cell line: 1>\u001b[0;34m()\u001b[0m\n\u001b[0;32m----> 1\u001b[0;31m \u001b[0mfeature_contribution\u001b[0m\u001b[0;34m=\u001b[0m\u001b[0;34m(\u001b[0m\u001b[0mfs\u001b[0m\u001b[0;34m.\u001b[0m\u001b[0mscores_\u001b[0m\u001b[0;34m/\u001b[0m\u001b[0msum\u001b[0m\u001b[0;34m(\u001b[0m\u001b[0mfs\u001b[0m\u001b[0;34m.\u001b[0m\u001b[0mscores_\u001b[0m\u001b[0;34m)\u001b[0m\u001b[0;34m)\u001b[0m\u001b[0;34m*\u001b[0m\u001b[0;36m100\u001b[0m\u001b[0;34m\u001b[0m\u001b[0;34m\u001b[0m\u001b[0m\n\u001b[0m",
            "\u001b[0;31mAttributeError\u001b[0m: 'SelectKBest' object has no attribute 'scores_'"
          ]
        }
      ],
      "execution_count": null
    },
    {
      "cell_type": "markdown",
      "source": [
        "### Feature importance Graph <a class=\"anchor\" id=\"sec3.1\"></a>"
      ],
      "metadata": {
        "id": "F6Vrv9GiXizL"
      }
    },
    {
      "cell_type": "code",
      "source": [
        "for i,j in enumerate(X.columns):\n",
        "    print(f'{j} : {feature_contribution[i]:.2f}%')\n",
        "plt.figure(figsize=(12,8))\n",
        "ax=sns.barplot(x=X.columns,y=fs.scores_)\n",
        "ax.set_xticklabels(ax.get_xticklabels(), rotation=40, ha=\"right\")\n",
        "plt.tight_layout()\n",
        "plt.show()"
      ],
      "metadata": {
        "execution": {
          "iopub.status.busy": "2024-11-10T07:45:38.557502Z",
          "iopub.execute_input": "2024-11-10T07:45:38.557976Z",
          "iopub.status.idle": "2024-11-10T07:45:39.018162Z",
          "shell.execute_reply.started": "2024-11-10T07:45:38.557929Z",
          "shell.execute_reply": "2024-11-10T07:45:39.016666Z"
        },
        "trusted": true,
        "id": "HJ3TfzgyXizL",
        "outputId": "00bb2fc6-2989-4e5a-9cb2-2362dbb1089d",
        "colab": {
          "base_uri": "https://localhost:8080/",
          "height": 211
        }
      },
      "outputs": [
        {
          "output_type": "error",
          "ename": "NameError",
          "evalue": "name 'X' is not defined",
          "traceback": [
            "\u001b[0;31m---------------------------------------------------------------------------\u001b[0m",
            "\u001b[0;31mNameError\u001b[0m                                 Traceback (most recent call last)",
            "\u001b[0;32m<ipython-input-15-cfbf032def84>\u001b[0m in \u001b[0;36m<cell line: 1>\u001b[0;34m()\u001b[0m\n\u001b[0;32m----> 1\u001b[0;31m \u001b[0;32mfor\u001b[0m \u001b[0mi\u001b[0m\u001b[0;34m,\u001b[0m\u001b[0mj\u001b[0m \u001b[0;32min\u001b[0m \u001b[0menumerate\u001b[0m\u001b[0;34m(\u001b[0m\u001b[0mX\u001b[0m\u001b[0;34m.\u001b[0m\u001b[0mcolumns\u001b[0m\u001b[0;34m)\u001b[0m\u001b[0;34m:\u001b[0m\u001b[0;34m\u001b[0m\u001b[0;34m\u001b[0m\u001b[0m\n\u001b[0m\u001b[1;32m      2\u001b[0m     \u001b[0mprint\u001b[0m\u001b[0;34m(\u001b[0m\u001b[0;34mf'{j} : {feature_contribution[i]:.2f}%'\u001b[0m\u001b[0;34m)\u001b[0m\u001b[0;34m\u001b[0m\u001b[0;34m\u001b[0m\u001b[0m\n\u001b[1;32m      3\u001b[0m \u001b[0mplt\u001b[0m\u001b[0;34m.\u001b[0m\u001b[0mfigure\u001b[0m\u001b[0;34m(\u001b[0m\u001b[0mfigsize\u001b[0m\u001b[0;34m=\u001b[0m\u001b[0;34m(\u001b[0m\u001b[0;36m12\u001b[0m\u001b[0;34m,\u001b[0m\u001b[0;36m8\u001b[0m\u001b[0;34m)\u001b[0m\u001b[0;34m)\u001b[0m\u001b[0;34m\u001b[0m\u001b[0;34m\u001b[0m\u001b[0m\n\u001b[1;32m      4\u001b[0m \u001b[0max\u001b[0m\u001b[0;34m=\u001b[0m\u001b[0msns\u001b[0m\u001b[0;34m.\u001b[0m\u001b[0mbarplot\u001b[0m\u001b[0;34m(\u001b[0m\u001b[0mx\u001b[0m\u001b[0;34m=\u001b[0m\u001b[0mX\u001b[0m\u001b[0;34m.\u001b[0m\u001b[0mcolumns\u001b[0m\u001b[0;34m,\u001b[0m\u001b[0my\u001b[0m\u001b[0;34m=\u001b[0m\u001b[0mfs\u001b[0m\u001b[0;34m.\u001b[0m\u001b[0mscores_\u001b[0m\u001b[0;34m)\u001b[0m\u001b[0;34m\u001b[0m\u001b[0;34m\u001b[0m\u001b[0m\n\u001b[1;32m      5\u001b[0m \u001b[0max\u001b[0m\u001b[0;34m.\u001b[0m\u001b[0mset_xticklabels\u001b[0m\u001b[0;34m(\u001b[0m\u001b[0max\u001b[0m\u001b[0;34m.\u001b[0m\u001b[0mget_xticklabels\u001b[0m\u001b[0;34m(\u001b[0m\u001b[0;34m)\u001b[0m\u001b[0;34m,\u001b[0m \u001b[0mrotation\u001b[0m\u001b[0;34m=\u001b[0m\u001b[0;36m40\u001b[0m\u001b[0;34m,\u001b[0m \u001b[0mha\u001b[0m\u001b[0;34m=\u001b[0m\u001b[0;34m\"right\"\u001b[0m\u001b[0;34m)\u001b[0m\u001b[0;34m\u001b[0m\u001b[0;34m\u001b[0m\u001b[0m\n",
            "\u001b[0;31mNameError\u001b[0m: name 'X' is not defined"
          ]
        }
      ],
      "execution_count": null
    },
    {
      "cell_type": "markdown",
      "source": [
        "<html>\n",
        "<p style=\"border:4px solid violet;color:green;background-color:tan;\">\n",
        "    From the above bar garph we can see the feature importance and we will include only those features which are more important for our model.</p>\n",
        "    </html>"
      ],
      "metadata": {
        "id": "ceqEiiyMXizL"
      }
    },
    {
      "cell_type": "code",
      "source": [
        "X1=X[['age','hypertension','heart_disease','ever_married_Yes','work_type_Self-employed','work_type_children','smoking_status_formerly smoked','smoking_status_Unknown']]"
      ],
      "metadata": {
        "execution": {
          "iopub.status.busy": "2024-11-10T07:45:39.020255Z",
          "iopub.execute_input": "2024-11-10T07:45:39.021305Z",
          "iopub.status.idle": "2024-11-10T07:45:39.029076Z",
          "shell.execute_reply.started": "2024-11-10T07:45:39.021250Z",
          "shell.execute_reply": "2024-11-10T07:45:39.027710Z"
        },
        "trusted": true,
        "id": "xVNU6U9jXizL",
        "colab": {
          "base_uri": "https://localhost:8080/",
          "height": 141
        },
        "outputId": "0d978f98-9d85-4625-8e84-e3fefa4cb05d"
      },
      "outputs": [
        {
          "output_type": "error",
          "ename": "NameError",
          "evalue": "name 'X' is not defined",
          "traceback": [
            "\u001b[0;31m---------------------------------------------------------------------------\u001b[0m",
            "\u001b[0;31mNameError\u001b[0m                                 Traceback (most recent call last)",
            "\u001b[0;32m<ipython-input-16-11f14b746287>\u001b[0m in \u001b[0;36m<cell line: 1>\u001b[0;34m()\u001b[0m\n\u001b[0;32m----> 1\u001b[0;31m \u001b[0mX1\u001b[0m\u001b[0;34m=\u001b[0m\u001b[0mX\u001b[0m\u001b[0;34m[\u001b[0m\u001b[0;34m[\u001b[0m\u001b[0;34m'age'\u001b[0m\u001b[0;34m,\u001b[0m\u001b[0;34m'hypertension'\u001b[0m\u001b[0;34m,\u001b[0m\u001b[0;34m'heart_disease'\u001b[0m\u001b[0;34m,\u001b[0m\u001b[0;34m'ever_married_Yes'\u001b[0m\u001b[0;34m,\u001b[0m\u001b[0;34m'work_type_Self-employed'\u001b[0m\u001b[0;34m,\u001b[0m\u001b[0;34m'work_type_children'\u001b[0m\u001b[0;34m,\u001b[0m\u001b[0;34m'smoking_status_formerly smoked'\u001b[0m\u001b[0;34m,\u001b[0m\u001b[0;34m'smoking_status_Unknown'\u001b[0m\u001b[0;34m]\u001b[0m\u001b[0;34m]\u001b[0m\u001b[0;34m\u001b[0m\u001b[0;34m\u001b[0m\u001b[0m\n\u001b[0m",
            "\u001b[0;31mNameError\u001b[0m: name 'X' is not defined"
          ]
        }
      ],
      "execution_count": null
    },
    {
      "cell_type": "markdown",
      "source": [
        "### Splitting our dataset into train and test set <a class=\"anchor\" id=\"sec4\"></a>"
      ],
      "metadata": {
        "id": "NHLpSJEWXizM"
      }
    },
    {
      "cell_type": "code",
      "source": [
        "from sklearn.model_selection import train_test_split"
      ],
      "metadata": {
        "execution": {
          "iopub.status.busy": "2024-11-10T07:45:39.030671Z",
          "iopub.execute_input": "2024-11-10T07:45:39.031089Z",
          "iopub.status.idle": "2024-11-10T07:45:39.041626Z",
          "shell.execute_reply.started": "2024-11-10T07:45:39.031053Z",
          "shell.execute_reply": "2024-11-10T07:45:39.040539Z"
        },
        "trusted": true,
        "id": "L25kZHRsXizM"
      },
      "outputs": [],
      "execution_count": null
    },
    {
      "cell_type": "code",
      "source": [
        "X_train,X_test,y_train,y_test=train_test_split(X1,y,test_size=0.25,stratify=y,random_state=32)"
      ],
      "metadata": {
        "execution": {
          "iopub.status.busy": "2024-11-10T07:45:39.043248Z",
          "iopub.execute_input": "2024-11-10T07:45:39.043777Z",
          "iopub.status.idle": "2024-11-10T07:45:39.064926Z",
          "shell.execute_reply.started": "2024-11-10T07:45:39.043728Z",
          "shell.execute_reply": "2024-11-10T07:45:39.063689Z"
        },
        "trusted": true,
        "id": "xWOFoUPGXizM",
        "colab": {
          "base_uri": "https://localhost:8080/",
          "height": 141
        },
        "outputId": "93dcf02d-a940-42cf-a08d-2dff0a55fc2a"
      },
      "outputs": [
        {
          "output_type": "error",
          "ename": "NameError",
          "evalue": "name 'X1' is not defined",
          "traceback": [
            "\u001b[0;31m---------------------------------------------------------------------------\u001b[0m",
            "\u001b[0;31mNameError\u001b[0m                                 Traceback (most recent call last)",
            "\u001b[0;32m<ipython-input-18-3861694f6697>\u001b[0m in \u001b[0;36m<cell line: 1>\u001b[0;34m()\u001b[0m\n\u001b[0;32m----> 1\u001b[0;31m \u001b[0mX_train\u001b[0m\u001b[0;34m,\u001b[0m\u001b[0mX_test\u001b[0m\u001b[0;34m,\u001b[0m\u001b[0my_train\u001b[0m\u001b[0;34m,\u001b[0m\u001b[0my_test\u001b[0m\u001b[0;34m=\u001b[0m\u001b[0mtrain_test_split\u001b[0m\u001b[0;34m(\u001b[0m\u001b[0mX1\u001b[0m\u001b[0;34m,\u001b[0m\u001b[0my\u001b[0m\u001b[0;34m,\u001b[0m\u001b[0mtest_size\u001b[0m\u001b[0;34m=\u001b[0m\u001b[0;36m0.25\u001b[0m\u001b[0;34m,\u001b[0m\u001b[0mstratify\u001b[0m\u001b[0;34m=\u001b[0m\u001b[0my\u001b[0m\u001b[0;34m,\u001b[0m\u001b[0mrandom_state\u001b[0m\u001b[0;34m=\u001b[0m\u001b[0;36m32\u001b[0m\u001b[0;34m)\u001b[0m\u001b[0;34m\u001b[0m\u001b[0;34m\u001b[0m\u001b[0m\n\u001b[0m",
            "\u001b[0;31mNameError\u001b[0m: name 'X1' is not defined"
          ]
        }
      ],
      "execution_count": null
    },
    {
      "cell_type": "markdown",
      "source": [
        "### SMOTE(Synthetic Minority Oversampling Technique)<a class=\"anchor\" id=\"sec9\"></a>"
      ],
      "metadata": {
        "id": "m-iFU1muXizM"
      }
    },
    {
      "cell_type": "markdown",
      "source": [
        "<html>\n",
        "<p style=\"color:chocolate;font-size:150%;\">\n",
        "    <b>Under Sampling and Over Sampling-</b></p>\n",
        "    <img src=\"https://lh6.googleusercontent.com/n33kWCxulUum6gl_SSImC7TGtBUs71b-BjOrzv1DPw0PJ8K7QPuo55B4DntBhuLL_RU=w2400\" alt=\"Computer man\" style=\"width:800px;height:300px;\"/>\n",
        "<p style=\"border:4px solid violet;color:green;background-color:tan;\">\n",
        "    <b>What is SMOTE ?</b><br>\n",
        "    Synthetic Minority Oversampling Technique or SMOTE is a technique to oversample the minority class. Simply adding duplicate records of minority class often don’t add any new information to the model. In SMOTE new instances are synthesized from the existing data. If we explain it in simple words, SMOTE looks into minority class instances and use k nearest neighbor to select a random nearest neighbor, and a synthetic instance is created randomly in feature space.</p>\n",
        "    </html>"
      ],
      "metadata": {
        "id": "p-6dWgERXizM"
      }
    },
    {
      "cell_type": "markdown",
      "source": [
        "### Applying Smote technique for making our data balance"
      ],
      "metadata": {
        "id": "741bEdjnXizM"
      }
    },
    {
      "cell_type": "code",
      "source": [
        "from imblearn.over_sampling import SMOTE"
      ],
      "metadata": {
        "execution": {
          "iopub.status.busy": "2024-11-10T07:45:39.066480Z",
          "iopub.execute_input": "2024-11-10T07:45:39.066865Z",
          "iopub.status.idle": "2024-11-10T07:45:39.334236Z",
          "shell.execute_reply.started": "2024-11-10T07:45:39.066831Z",
          "shell.execute_reply": "2024-11-10T07:45:39.333101Z"
        },
        "trusted": true,
        "id": "SJzvCcc0XizM"
      },
      "outputs": [],
      "execution_count": null
    },
    {
      "cell_type": "code",
      "source": [
        "sm = SMOTE(random_state=2,k_neighbors=3,sampling_strategy='minority')"
      ],
      "metadata": {
        "execution": {
          "iopub.status.busy": "2024-11-10T07:45:39.335666Z",
          "iopub.execute_input": "2024-11-10T07:45:39.336026Z",
          "iopub.status.idle": "2024-11-10T07:45:39.342336Z",
          "shell.execute_reply.started": "2024-11-10T07:45:39.335994Z",
          "shell.execute_reply": "2024-11-10T07:45:39.340926Z"
        },
        "trusted": true,
        "id": "sQq9uT_lXizM"
      },
      "outputs": [],
      "execution_count": null
    },
    {
      "cell_type": "code",
      "source": [
        "X_train,y_train=sm.fit_resample(X_train,y_train)"
      ],
      "metadata": {
        "execution": {
          "iopub.status.busy": "2024-11-10T07:45:39.344046Z",
          "iopub.execute_input": "2024-11-10T07:45:39.344772Z",
          "iopub.status.idle": "2024-11-10T07:45:39.371048Z",
          "shell.execute_reply.started": "2024-11-10T07:45:39.344730Z",
          "shell.execute_reply": "2024-11-10T07:45:39.369700Z"
        },
        "trusted": true,
        "id": "eRip3PyRXizM",
        "colab": {
          "base_uri": "https://localhost:8080/",
          "height": 141
        },
        "outputId": "fd471453-76cf-413f-e094-c19f1d682edb"
      },
      "outputs": [
        {
          "output_type": "error",
          "ename": "NameError",
          "evalue": "name 'X_train' is not defined",
          "traceback": [
            "\u001b[0;31m---------------------------------------------------------------------------\u001b[0m",
            "\u001b[0;31mNameError\u001b[0m                                 Traceback (most recent call last)",
            "\u001b[0;32m<ipython-input-21-6df960fa43be>\u001b[0m in \u001b[0;36m<cell line: 1>\u001b[0;34m()\u001b[0m\n\u001b[0;32m----> 1\u001b[0;31m \u001b[0mX_train\u001b[0m\u001b[0;34m,\u001b[0m\u001b[0my_train\u001b[0m\u001b[0;34m=\u001b[0m\u001b[0msm\u001b[0m\u001b[0;34m.\u001b[0m\u001b[0mfit_resample\u001b[0m\u001b[0;34m(\u001b[0m\u001b[0mX_train\u001b[0m\u001b[0;34m,\u001b[0m\u001b[0my_train\u001b[0m\u001b[0;34m)\u001b[0m\u001b[0;34m\u001b[0m\u001b[0;34m\u001b[0m\u001b[0m\n\u001b[0m",
            "\u001b[0;31mNameError\u001b[0m: name 'X_train' is not defined"
          ]
        }
      ],
      "execution_count": null
    },
    {
      "cell_type": "markdown",
      "source": [
        "\n",
        "### Count plot after applying SMOTE <a class=\"anchor\" id=\"sec9.1\"></a>"
      ],
      "metadata": {
        "id": "Gfna0ZtuXizM"
      }
    },
    {
      "cell_type": "code",
      "source": [
        "sns.countplot(y_train)\n",
        "plt.show()"
      ],
      "metadata": {
        "execution": {
          "iopub.status.busy": "2024-11-10T07:45:39.372703Z",
          "iopub.execute_input": "2024-11-10T07:45:39.373075Z",
          "iopub.status.idle": "2024-11-10T07:45:39.557618Z",
          "shell.execute_reply.started": "2024-11-10T07:45:39.373041Z",
          "shell.execute_reply": "2024-11-10T07:45:39.556311Z"
        },
        "trusted": true,
        "id": "uSbQCRXWXizM",
        "outputId": "27f56f97-9e8c-484a-9bdb-93db3ed1db5d",
        "colab": {
          "base_uri": "https://localhost:8080/",
          "height": 159
        }
      },
      "outputs": [
        {
          "output_type": "error",
          "ename": "NameError",
          "evalue": "name 'y_train' is not defined",
          "traceback": [
            "\u001b[0;31m---------------------------------------------------------------------------\u001b[0m",
            "\u001b[0;31mNameError\u001b[0m                                 Traceback (most recent call last)",
            "\u001b[0;32m<ipython-input-22-03ee96567c9b>\u001b[0m in \u001b[0;36m<cell line: 1>\u001b[0;34m()\u001b[0m\n\u001b[0;32m----> 1\u001b[0;31m \u001b[0msns\u001b[0m\u001b[0;34m.\u001b[0m\u001b[0mcountplot\u001b[0m\u001b[0;34m(\u001b[0m\u001b[0my_train\u001b[0m\u001b[0;34m)\u001b[0m\u001b[0;34m\u001b[0m\u001b[0;34m\u001b[0m\u001b[0m\n\u001b[0m\u001b[1;32m      2\u001b[0m \u001b[0mplt\u001b[0m\u001b[0;34m.\u001b[0m\u001b[0mshow\u001b[0m\u001b[0;34m(\u001b[0m\u001b[0;34m)\u001b[0m\u001b[0;34m\u001b[0m\u001b[0;34m\u001b[0m\u001b[0m\n",
            "\u001b[0;31mNameError\u001b[0m: name 'y_train' is not defined"
          ]
        }
      ],
      "execution_count": null
    },
    {
      "cell_type": "markdown",
      "source": [
        "### Feature Scaling <a class=\"anchor\" id=\"sec5\"></a>"
      ],
      "metadata": {
        "id": "5nnMcXtdXizM"
      }
    },
    {
      "cell_type": "markdown",
      "source": [
        "<html>\n",
        "<p style=\"color:chocolate;font-size:150%;\">\n",
        "    <b>Feature Scaling-</b></p>\n",
        "<p style=\"border:4px solid violet;color:green;background-color:tan;\">\n",
        "    <b>What is Normalization?</b><br>\n",
        "    Normalization is a scaling technique in which values are shifted and rescaled so that they end up ranging between 0 and 1. It is also known as Min-Max scaling.<br>\n",
        "    <img src=\"https://lh6.googleusercontent.com/_y4dtry_8ImYjqLTXcH68ZpB1--Iea2n2m08d-GLpbTQ4VSREwy3v1PcX8dGQwLE9PE=w2400\" alt=\"Computer man\" style=\"width:800px;height:200px;\"/><br>\n",
        "    <b>What is Standardization?</b><br>\n",
        "    Standardization is another scaling technique where the values are centered around the mean with a unit standard deviation. This means that the mean of the attribute becomes zero and the resultant distribution has a unit standard deviation.<br><img src=\"https://lh3.googleusercontent.com/q9a09LIGXoRO_1bdgFw0C3WcjyEhpDnJ3C8COL65yn0gWhRTtFm5US-Q33aAQujuETQ=w2400\" alt=\"Computer man\" style=\"width:800px;height:200px;\"/></p>"
      ],
      "metadata": {
        "id": "lmnQLBDNXizN"
      }
    },
    {
      "cell_type": "markdown",
      "source": [
        "<html>\n",
        "<p style=\"border:4px solid violet;color:green;background-color:tan;\">\n",
        "    Here we are going to use <b>Standardization</b>.</p>\n",
        "    </html>"
      ],
      "metadata": {
        "id": "R7CBNunVXizN"
      }
    },
    {
      "cell_type": "code",
      "source": [
        "from sklearn.preprocessing import StandardScaler"
      ],
      "metadata": {
        "execution": {
          "iopub.status.busy": "2024-11-10T07:45:39.559321Z",
          "iopub.execute_input": "2024-11-10T07:45:39.559769Z",
          "iopub.status.idle": "2024-11-10T07:45:39.565353Z",
          "shell.execute_reply.started": "2024-11-10T07:45:39.559731Z",
          "shell.execute_reply": "2024-11-10T07:45:39.564067Z"
        },
        "trusted": true,
        "id": "5oKs6Un3XizN"
      },
      "outputs": [],
      "execution_count": null
    },
    {
      "cell_type": "code",
      "source": [
        "sc=StandardScaler()\n",
        "X_train=sc.fit_transform(X_train)\n",
        "X_test=sc.transform(X_test)"
      ],
      "metadata": {
        "execution": {
          "iopub.status.busy": "2024-11-10T07:45:39.567009Z",
          "iopub.execute_input": "2024-11-10T07:45:39.567417Z",
          "iopub.status.idle": "2024-11-10T07:45:39.586821Z",
          "shell.execute_reply.started": "2024-11-10T07:45:39.567382Z",
          "shell.execute_reply": "2024-11-10T07:45:39.585500Z"
        },
        "trusted": true,
        "id": "6QPpJomPXizN",
        "colab": {
          "base_uri": "https://localhost:8080/",
          "height": 176
        },
        "outputId": "9a4d1123-63f8-46ab-9764-57860b434cf4"
      },
      "outputs": [
        {
          "output_type": "error",
          "ename": "NameError",
          "evalue": "name 'X_train' is not defined",
          "traceback": [
            "\u001b[0;31m---------------------------------------------------------------------------\u001b[0m",
            "\u001b[0;31mNameError\u001b[0m                                 Traceback (most recent call last)",
            "\u001b[0;32m<ipython-input-24-2266c3d62494>\u001b[0m in \u001b[0;36m<cell line: 2>\u001b[0;34m()\u001b[0m\n\u001b[1;32m      1\u001b[0m \u001b[0msc\u001b[0m\u001b[0;34m=\u001b[0m\u001b[0mStandardScaler\u001b[0m\u001b[0;34m(\u001b[0m\u001b[0;34m)\u001b[0m\u001b[0;34m\u001b[0m\u001b[0;34m\u001b[0m\u001b[0m\n\u001b[0;32m----> 2\u001b[0;31m \u001b[0mX_train\u001b[0m\u001b[0;34m=\u001b[0m\u001b[0msc\u001b[0m\u001b[0;34m.\u001b[0m\u001b[0mfit_transform\u001b[0m\u001b[0;34m(\u001b[0m\u001b[0mX_train\u001b[0m\u001b[0;34m)\u001b[0m\u001b[0;34m\u001b[0m\u001b[0;34m\u001b[0m\u001b[0m\n\u001b[0m\u001b[1;32m      3\u001b[0m \u001b[0mX_test\u001b[0m\u001b[0;34m=\u001b[0m\u001b[0msc\u001b[0m\u001b[0;34m.\u001b[0m\u001b[0mtransform\u001b[0m\u001b[0;34m(\u001b[0m\u001b[0mX_test\u001b[0m\u001b[0;34m)\u001b[0m\u001b[0;34m\u001b[0m\u001b[0;34m\u001b[0m\u001b[0m\n",
            "\u001b[0;31mNameError\u001b[0m: name 'X_train' is not defined"
          ]
        }
      ],
      "execution_count": null
    },
    {
      "cell_type": "markdown",
      "source": [
        "## Modeling <a class=\"anchor\" id=\"sec6\"></a>"
      ],
      "metadata": {
        "id": "ACtTOLwXXizN"
      }
    },
    {
      "cell_type": "markdown",
      "source": [
        "### Performance Measures for Multi-Class"
      ],
      "metadata": {
        "id": "YDXJBdeUXizN"
      }
    },
    {
      "cell_type": "markdown",
      "source": [
        "<html>\n",
        "<p style=\"border:4px solid violet;color:green;background-color:tan;\">\n",
        "    <b>Confusion Matrix-</b><br>\n",
        "    <img src=\"https://lh6.googleusercontent.com/WJEnoqTTOGL2LQynBs3nG4uA47_UB5imRkgfTKVwYaTq8Zmmi-_Ns7SEPI90VVjt5-I=w2400\" alt=\"Computer man\" style=\"width:800px;height:300px;\"/>\n",
        "    <br>\n",
        "    <b>Other Multiclass Classification Metrics:</b><br>\n",
        "    <img src=\"https://lh6.googleusercontent.com/rLIeVDOU5r4vAL1wPwWM0NtxKMUTzgkgOVZkkGiXxMC1VtCimZSrwLTYeEOap5Js8MY=w2400\" alt=\"Computer man\" style=\"width:800px;height:300px;\"/>\n",
        "    </p>\n",
        "    </html>"
      ],
      "metadata": {
        "execution": {
          "iopub.execute_input": "2022-08-14T18:23:05.915479Z",
          "iopub.status.busy": "2022-08-14T18:23:05.91498Z",
          "iopub.status.idle": "2022-08-14T18:23:05.924035Z",
          "shell.execute_reply": "2022-08-14T18:23:05.922184Z",
          "shell.execute_reply.started": "2022-08-14T18:23:05.915441Z"
        },
        "id": "IiXWcY2CXizN"
      }
    },
    {
      "cell_type": "markdown",
      "source": [
        "### K-fold Cross Validation"
      ],
      "metadata": {
        "id": "JYzfVF9tXizN"
      }
    },
    {
      "cell_type": "markdown",
      "source": [
        "<html>\n",
        "<p style=\"color:chocolate;font-size:150%;\">\n",
        "    <b>K-fold Cross validation-</b></p>\n",
        "<p style=\"border:4px solid violet;color:green;background-color:tan;\">\n",
        "    <b>What is Cross Validation?</b><br>\n",
        "    Cross-validation is a technique in which we train our model using the subset of the data-set and then evaluate using the complementary subset of the data-set.<br>\n",
        "    <img src=\"https://lh6.googleusercontent.com/sp2oloxXrxErMlLFkU3p0TqWYUh4O-9OjhQxBk8RcbKyYrxfPSSfGqw4KU61Vw_Qq7A=w2400\" alt=\"Computer man\" style=\"width:800px;height:400px;\"/>\n",
        "    </html>"
      ],
      "metadata": {
        "id": "lm9hnV5OXizN"
      }
    },
    {
      "cell_type": "code",
      "source": [
        "#importing different classification models\n",
        "from sklearn.ensemble import RandomForestClassifier\n",
        "from sklearn.neighbors import KNeighborsClassifier\n",
        "from sklearn.svm import SVC\n",
        "from sklearn.naive_bayes import GaussianNB\n",
        "from sklearn.tree import DecisionTreeClassifier\n",
        "from sklearn.model_selection import cross_val_score\n",
        "from sklearn.metrics import confusion_matrix, accuracy_score,f1_score\n",
        "from sklearn.metrics import classification_report\n",
        "from xgboost import XGBClassifier\n",
        "from sklearn.linear_model import LogisticRegression"
      ],
      "metadata": {
        "execution": {
          "iopub.status.busy": "2024-11-10T07:45:39.588604Z",
          "iopub.execute_input": "2024-11-10T07:45:39.589016Z",
          "iopub.status.idle": "2024-11-10T07:45:39.705393Z",
          "shell.execute_reply.started": "2024-11-10T07:45:39.588981Z",
          "shell.execute_reply": "2024-11-10T07:45:39.704039Z"
        },
        "trusted": true,
        "id": "0YoH3H4ZXizN"
      },
      "outputs": [],
      "execution_count": null
    },
    {
      "cell_type": "code",
      "source": [
        "#creating dictionary for storing different models accuracy\n",
        "model_comparison={}"
      ],
      "metadata": {
        "execution": {
          "iopub.status.busy": "2024-11-10T07:45:39.707488Z",
          "iopub.execute_input": "2024-11-10T07:45:39.707879Z",
          "iopub.status.idle": "2024-11-10T07:45:39.713072Z",
          "shell.execute_reply.started": "2024-11-10T07:45:39.707846Z",
          "shell.execute_reply": "2024-11-10T07:45:39.711725Z"
        },
        "trusted": true,
        "id": "2Kl-4pk2XizN"
      },
      "outputs": [],
      "execution_count": null
    },
    {
      "cell_type": "markdown",
      "source": [
        "### Logistic Regression <a class=\"anchor\" id=\"sec6.0\"></a>"
      ],
      "metadata": {
        "id": "7Ztz7N6OXizN"
      }
    },
    {
      "cell_type": "code",
      "source": [
        "classifier=LogisticRegression()\n",
        "classifier.fit(X_train,y_train)\n",
        "y_pred=classifier.predict(X_test)\n",
        "print(f\"Model Accuracy : {accuracy_score(y_pred,y_test)*100:.2f}%\")\n",
        "print(f\"Model F1-Score : {f1_score(y_pred,y_test,average='weighted')*100:.2f}%\")\n",
        "accuracies = cross_val_score(estimator = classifier, X = X_train, y = y_train, cv = 6)\n",
        "print(\"Cross Val Accuracy: {:.2f} %\".format(accuracies.mean()*100))\n",
        "print(\"Cross Val Standard Deviation: {:.2f} %\".format(accuracies.std()*100))\n",
        "print(classification_report(y_pred,y_test,zero_division=1))\n",
        "model_comparison['Logistic Regression']=[accuracy_score(y_pred,y_test),f1_score(y_pred,y_test,average='weighted'),(accuracies.mean()),(accuracies.std())]"
      ],
      "metadata": {
        "execution": {
          "iopub.status.busy": "2024-11-10T07:45:39.722737Z",
          "iopub.execute_input": "2024-11-10T07:45:39.723347Z",
          "iopub.status.idle": "2024-11-10T07:45:40.164278Z",
          "shell.execute_reply.started": "2024-11-10T07:45:39.723304Z",
          "shell.execute_reply": "2024-11-10T07:45:40.162708Z"
        },
        "trusted": true,
        "id": "D3LZwAZEXizN",
        "outputId": "76c48cfd-0413-4407-af38-8fb347f4dc9f",
        "colab": {
          "base_uri": "https://localhost:8080/",
          "height": 211
        }
      },
      "outputs": [
        {
          "output_type": "error",
          "ename": "NameError",
          "evalue": "name 'y_test' is not defined",
          "traceback": [
            "\u001b[0;31m---------------------------------------------------------------------------\u001b[0m",
            "\u001b[0;31mNameError\u001b[0m                                 Traceback (most recent call last)",
            "\u001b[0;32m<ipython-input-30-c564188fbe4d>\u001b[0m in \u001b[0;36m<cell line: 4>\u001b[0;34m()\u001b[0m\n\u001b[1;32m      2\u001b[0m \u001b[0mclassifier\u001b[0m\u001b[0;34m.\u001b[0m\u001b[0mfit\u001b[0m\u001b[0;34m(\u001b[0m\u001b[0mX_train\u001b[0m\u001b[0;34m,\u001b[0m\u001b[0my_train\u001b[0m\u001b[0;34m)\u001b[0m\u001b[0;34m\u001b[0m\u001b[0;34m\u001b[0m\u001b[0m\n\u001b[1;32m      3\u001b[0m \u001b[0my_pred\u001b[0m\u001b[0;34m=\u001b[0m\u001b[0mclassifier\u001b[0m\u001b[0;34m.\u001b[0m\u001b[0mpredict\u001b[0m\u001b[0;34m(\u001b[0m\u001b[0mX_test\u001b[0m\u001b[0;34m)\u001b[0m\u001b[0;34m\u001b[0m\u001b[0;34m\u001b[0m\u001b[0m\n\u001b[0;32m----> 4\u001b[0;31m \u001b[0mprint\u001b[0m\u001b[0;34m(\u001b[0m\u001b[0;34mf\"Model Accuracy : {accuracy_score(y_pred,y_test)*100:.2f}%\"\u001b[0m\u001b[0;34m)\u001b[0m\u001b[0;34m\u001b[0m\u001b[0;34m\u001b[0m\u001b[0m\n\u001b[0m\u001b[1;32m      5\u001b[0m \u001b[0mprint\u001b[0m\u001b[0;34m(\u001b[0m\u001b[0;34mf\"Model F1-Score : {f1_score(y_pred,y_test,average='weighted')*100:.2f}%\"\u001b[0m\u001b[0;34m)\u001b[0m\u001b[0;34m\u001b[0m\u001b[0;34m\u001b[0m\u001b[0m\n\u001b[1;32m      6\u001b[0m \u001b[0maccuracies\u001b[0m \u001b[0;34m=\u001b[0m \u001b[0mcross_val_score\u001b[0m\u001b[0;34m(\u001b[0m\u001b[0mestimator\u001b[0m \u001b[0;34m=\u001b[0m \u001b[0mclassifier\u001b[0m\u001b[0;34m,\u001b[0m \u001b[0mX\u001b[0m \u001b[0;34m=\u001b[0m \u001b[0mX_train\u001b[0m\u001b[0;34m,\u001b[0m \u001b[0my\u001b[0m \u001b[0;34m=\u001b[0m \u001b[0my_train\u001b[0m\u001b[0;34m,\u001b[0m \u001b[0mcv\u001b[0m \u001b[0;34m=\u001b[0m \u001b[0;36m6\u001b[0m\u001b[0;34m)\u001b[0m\u001b[0;34m\u001b[0m\u001b[0;34m\u001b[0m\u001b[0m\n",
            "\u001b[0;31mNameError\u001b[0m: name 'y_test' is not defined"
          ]
        }
      ],
      "execution_count": null
    },
    {
      "cell_type": "code",
      "source": [
        "import pandas as pd\n",
        "from sklearn.linear_model import LogisticRegression\n",
        "from sklearn.model_selection import train_test_split, GridSearchCV, cross_val_score\n",
        "from sklearn.preprocessing import StandardScaler\n",
        "from sklearn.impute import SimpleImputer\n",
        "from sklearn.metrics import accuracy_score, f1_score, recall_score, classification_report, make_scorer\n",
        "from imblearn.over_sampling import SMOTE\n",
        "\n",
        "# Load datasets\n",
        "train_data = pd.read_csv('/content/train (1).csv')\n",
        "test_data = pd.read_csv('/content/test.csv')\n",
        "\n",
        "# Separate features and target\n",
        "X = train_data.drop(columns=['stroke', 'id'])\n",
        "y = train_data['stroke']\n",
        "\n",
        "# Combine train and test data for consistent preprocessing\n",
        "combined = pd.concat([X, test_data.drop(columns=['id'])], keys=['train', 'test'])\n",
        "\n",
        "# Handle categorical features\n",
        "combined = pd.get_dummies(combined, columns=['gender', 'ever_married', 'work_type', 'Residence_type', 'smoking_status'], drop_first=True)\n",
        "\n",
        "# Split back into train and test sets\n",
        "X = combined.xs('train')\n",
        "X_test = combined.xs('test')\n",
        "\n",
        "# Handle missing values\n",
        "imputer = SimpleImputer(strategy='mean')\n",
        "X = imputer.fit_transform(X)\n",
        "X_test = imputer.transform(X_test)\n",
        "\n",
        "# Scale features\n",
        "scaler = StandardScaler()\n",
        "X = scaler.fit_transform(X)\n",
        "X_test = scaler.transform(X_test)\n",
        "\n",
        "# Balance the dataset with SMOTE\n",
        "smote = SMOTE(random_state=42)\n",
        "X_resampled, y_resampled = smote.fit_resample(X, y)\n",
        "\n",
        "# Split resampled data into train and validation sets\n",
        "X_train, X_val, y_train, y_val = train_test_split(X_resampled, y_resampled, test_size=0.2, random_state=42)\n",
        "\n",
        "# Set up the parameter grid for Logistic Regression\n",
        "param_grid = {\n",
        "    'C': [0.01, 0.1, 1, 10, 100],\n",
        "    'class_weight': [None, 'balanced']\n",
        "}\n",
        "\n",
        "# Define a custom scorer to prioritize recall\n",
        "recall_scorer = make_scorer(recall_score)\n",
        "\n",
        "# Initialize Logistic Regression model\n",
        "classifier = LogisticRegression(max_iter=1000, random_state=42)\n",
        "\n",
        "# Use GridSearchCV to find the best parameters for recall improvement\n",
        "grid_search = GridSearchCV(estimator=classifier, param_grid=param_grid, scoring=recall_scorer, cv=5, n_jobs=-1)\n",
        "grid_search.fit(X_train, y_train)\n",
        "\n",
        "# Best model based on recall score\n",
        "best_model = grid_search.best_estimator_\n",
        "\n",
        "# Evaluate on validation set\n",
        "y_pred = best_model.predict(X_val)\n",
        "\n",
        "# Calculate metrics\n",
        "accuracy = accuracy_score(y_val, y_pred) * 100\n",
        "f1 = f1_score(y_val, y_pred, average='weighted') * 100\n",
        "recall = recall_score(y_val, y_pred) * 100\n",
        "cross_val_accuracy = cross_val_score(estimator=best_model, X=X_train, y=y_train, cv=5).mean() * 100\n",
        "cross_val_std = cross_val_score(estimator=best_model, X=X_train, y=y_train, cv=5).std() * 100\n",
        "\n",
        "# Print results\n",
        "print(f\"Best Parameters: {grid_search.best_params_}\")\n",
        "print(f\"Model Accuracy: {accuracy:.2f}%\")\n",
        "print(f\"Model F1-Score: {f1:.2f}%\")\n",
        "print(f\"Model Recall: {recall:.2f}%\")\n",
        "print(f\"Cross Val Accuracy: {cross_val_accuracy:.2f}%\")\n",
        "print(f\"Cross Val Standard Deviation: {cross_val_std:.2f}%\")\n",
        "print(classification_report(y_val, y_pred, zero_division=1))\n",
        "\n",
        "# Store results in a dictionary for comparison\n",
        "model_comparison = {\n",
        "    'Logistic Regression': [accuracy, f1, recall, cross_val_accuracy, cross_val_std]\n",
        "}\n"
      ],
      "metadata": {
        "colab": {
          "base_uri": "https://localhost:8080/"
        },
        "id": "kPLSLcBleJ5-",
        "outputId": "987ae14a-a9de-4ef2-9c63-eaa9cacff621"
      },
      "execution_count": null,
      "outputs": [
        {
          "output_type": "stream",
          "name": "stdout",
          "text": [
            "Best Parameters: {'C': 0.01, 'class_weight': None}\n",
            "Model Accuracy: 82.54%\n",
            "Model F1-Score: 82.53%\n",
            "Model Recall: 85.27%\n",
            "Cross Val Accuracy: 82.18%\n",
            "Cross Val Standard Deviation: 0.77%\n",
            "              precision    recall  f1-score   support\n",
            "\n",
            "           0       0.85      0.80      0.82      2983\n",
            "           1       0.80      0.85      0.83      2886\n",
            "\n",
            "    accuracy                           0.83      5869\n",
            "   macro avg       0.83      0.83      0.83      5869\n",
            "weighted avg       0.83      0.83      0.83      5869\n",
            "\n"
          ]
        }
      ]
    },
    {
      "cell_type": "markdown",
      "source": [
        "### Decision Tree <a class=\"anchor\" id=\"sec6.1\"></a>"
      ],
      "metadata": {
        "id": "rjjdMCV1XizO"
      }
    },
    {
      "cell_type": "code",
      "source": [
        "classifier=DecisionTreeClassifier(criterion = 'entropy', random_state = 0)\n",
        "classifier.fit(X_train,y_train)\n",
        "y_pred=classifier.predict(X_test)\n",
        "print(f\"Model Accuracy : {accuracy_score(y_pred,y_test)*100:.2f}%\")\n",
        "print(f\"Model F1-Score : {f1_score(y_pred,y_test,average='weighted')*100:.2f}%\")\n",
        "accuracies = cross_val_score(estimator = classifier, X = X_train, y = y_train, cv = 5)\n",
        "print(\"Cross Val Accuracy: {:.2f} %\".format(accuracies.mean()*100))\n",
        "print(\"Cross Val Standard Deviation: {:.2f} %\".format(accuracies.std()*100))\n",
        "print(classification_report(y_pred,y_test,zero_division=1))\n",
        "model_comparison['Decision Tree']=[accuracy_score(y_pred,y_test),f1_score(y_pred,y_test,average='weighted'),(accuracies.mean()),(accuracies.std())]"
      ],
      "metadata": {
        "execution": {
          "iopub.status.busy": "2024-11-10T07:45:40.166389Z",
          "iopub.execute_input": "2024-11-10T07:45:40.167239Z",
          "iopub.status.idle": "2024-11-10T07:45:40.382766Z",
          "shell.execute_reply.started": "2024-11-10T07:45:40.167164Z",
          "shell.execute_reply": "2024-11-10T07:45:40.381508Z"
        },
        "trusted": true,
        "id": "bhu2_uyRXizO",
        "outputId": "0ec11c9d-369e-4d42-d33e-5282c52c6116",
        "colab": {
          "base_uri": "https://localhost:8080/",
          "height": 211
        }
      },
      "outputs": [
        {
          "output_type": "error",
          "ename": "NameError",
          "evalue": "name 'y_test' is not defined",
          "traceback": [
            "\u001b[0;31m---------------------------------------------------------------------------\u001b[0m",
            "\u001b[0;31mNameError\u001b[0m                                 Traceback (most recent call last)",
            "\u001b[0;32m<ipython-input-31-009ed6e49cda>\u001b[0m in \u001b[0;36m<cell line: 4>\u001b[0;34m()\u001b[0m\n\u001b[1;32m      2\u001b[0m \u001b[0mclassifier\u001b[0m\u001b[0;34m.\u001b[0m\u001b[0mfit\u001b[0m\u001b[0;34m(\u001b[0m\u001b[0mX_train\u001b[0m\u001b[0;34m,\u001b[0m\u001b[0my_train\u001b[0m\u001b[0;34m)\u001b[0m\u001b[0;34m\u001b[0m\u001b[0;34m\u001b[0m\u001b[0m\n\u001b[1;32m      3\u001b[0m \u001b[0my_pred\u001b[0m\u001b[0;34m=\u001b[0m\u001b[0mclassifier\u001b[0m\u001b[0;34m.\u001b[0m\u001b[0mpredict\u001b[0m\u001b[0;34m(\u001b[0m\u001b[0mX_test\u001b[0m\u001b[0;34m)\u001b[0m\u001b[0;34m\u001b[0m\u001b[0;34m\u001b[0m\u001b[0m\n\u001b[0;32m----> 4\u001b[0;31m \u001b[0mprint\u001b[0m\u001b[0;34m(\u001b[0m\u001b[0;34mf\"Model Accuracy : {accuracy_score(y_pred,y_test)*100:.2f}%\"\u001b[0m\u001b[0;34m)\u001b[0m\u001b[0;34m\u001b[0m\u001b[0;34m\u001b[0m\u001b[0m\n\u001b[0m\u001b[1;32m      5\u001b[0m \u001b[0mprint\u001b[0m\u001b[0;34m(\u001b[0m\u001b[0;34mf\"Model F1-Score : {f1_score(y_pred,y_test,average='weighted')*100:.2f}%\"\u001b[0m\u001b[0;34m)\u001b[0m\u001b[0;34m\u001b[0m\u001b[0;34m\u001b[0m\u001b[0m\n\u001b[1;32m      6\u001b[0m \u001b[0maccuracies\u001b[0m \u001b[0;34m=\u001b[0m \u001b[0mcross_val_score\u001b[0m\u001b[0;34m(\u001b[0m\u001b[0mestimator\u001b[0m \u001b[0;34m=\u001b[0m \u001b[0mclassifier\u001b[0m\u001b[0;34m,\u001b[0m \u001b[0mX\u001b[0m \u001b[0;34m=\u001b[0m \u001b[0mX_train\u001b[0m\u001b[0;34m,\u001b[0m \u001b[0my\u001b[0m \u001b[0;34m=\u001b[0m \u001b[0my_train\u001b[0m\u001b[0;34m,\u001b[0m \u001b[0mcv\u001b[0m \u001b[0;34m=\u001b[0m \u001b[0;36m5\u001b[0m\u001b[0;34m)\u001b[0m\u001b[0;34m\u001b[0m\u001b[0;34m\u001b[0m\u001b[0m\n",
            "\u001b[0;31mNameError\u001b[0m: name 'y_test' is not defined"
          ]
        }
      ],
      "execution_count": null
    },
    {
      "cell_type": "code",
      "source": [
        "from sklearn.tree import DecisionTreeClassifier\n",
        "from sklearn.model_selection import cross_val_score\n",
        "from sklearn.metrics import accuracy_score, f1_score, recall_score, classification_report\n",
        "\n",
        "# Initialize Decision Tree model with 'entropy' criterion\n",
        "classifier = DecisionTreeClassifier(criterion='entropy', random_state=0)\n",
        "classifier.fit(X_train, y_train)\n",
        "\n",
        "# Predict on validation set\n",
        "y_pred = classifier.predict(X_val)\n",
        "\n",
        "# Calculate metrics\n",
        "accuracy = accuracy_score(y_val, y_pred) * 100\n",
        "f1 = f1_score(y_val, y_pred, average='weighted') * 100\n",
        "recall = recall_score(y_val, y_pred) * 100\n",
        "cross_val_accuracy = cross_val_score(estimator=classifier, X=X_train, y=y_train, cv=5).mean() * 100\n",
        "cross_val_std = cross_val_score(estimator=classifier, X=X_train, y=y_train, cv=5).std() * 100\n",
        "\n",
        "# Print results\n",
        "print(f\"Model Accuracy: {accuracy:.2f}%\")\n",
        "print(f\"Model F1-Score: {f1:.2f}%\")\n",
        "print(f\"Model Recall: {recall:.2f}%\")\n",
        "print(f\"Cross Val Accuracy: {cross_val_accuracy:.2f}%\")\n",
        "print(f\"Cross Val Standard Deviation: {cross_val_std:.2f}%\")\n",
        "print(classification_report(y_val, y_pred, zero_division=1))\n",
        "\n",
        "# Store results in dictionary for comparison\n",
        "model_comparison['Decision Tree'] = [accuracy, f1, recall, cross_val_accuracy, cross_val_std]\n"
      ],
      "metadata": {
        "colab": {
          "base_uri": "https://localhost:8080/"
        },
        "id": "Az75Nu4xexH6",
        "outputId": "0d92812b-6622-4d8d-e386-6f55d9f064a2"
      },
      "execution_count": null,
      "outputs": [
        {
          "output_type": "stream",
          "name": "stdout",
          "text": [
            "Model Accuracy: 95.30%\n",
            "Model F1-Score: 95.30%\n",
            "Model Recall: 95.15%\n",
            "Cross Val Accuracy: 95.16%\n",
            "Cross Val Standard Deviation: 0.55%\n",
            "              precision    recall  f1-score   support\n",
            "\n",
            "           0       0.95      0.95      0.95      2983\n",
            "           1       0.95      0.95      0.95      2886\n",
            "\n",
            "    accuracy                           0.95      5869\n",
            "   macro avg       0.95      0.95      0.95      5869\n",
            "weighted avg       0.95      0.95      0.95      5869\n",
            "\n"
          ]
        }
      ]
    },
    {
      "cell_type": "markdown",
      "source": [
        "### KNN <a class=\"anchor\" id=\"sec6.2\"></a>"
      ],
      "metadata": {
        "id": "6abVUx35XizO"
      }
    },
    {
      "cell_type": "code",
      "source": [
        "classifier=classifier =KNeighborsClassifier(n_neighbors = 5, metric = 'minkowski', p = 2)\n",
        "classifier.fit(X_train,y_train)\n",
        "y_pred=classifier.predict(X_test)\n",
        "print(f\"Model Accuracy : {accuracy_score(y_pred,y_test)*100:.2f}%\")\n",
        "print(f\"Model F1-Score : {f1_score(y_pred,y_test,average='weighted')*100:.2f}%\")\n",
        "accuracies = cross_val_score(estimator = classifier, X = X_train, y = y_train, cv = 5)\n",
        "print(\"Cross Val Accuracy: {:.2f} %\".format(accuracies.mean()*100))\n",
        "print(\"Cross Val Standard Deviation: {:.2f} %\".format(accuracies.std()*100))\n",
        "print(classification_report(y_pred,y_test,zero_division=1))\n",
        "model_comparison['KNN']=[accuracy_score(y_pred,y_test),f1_score(y_pred,y_test,average='weighted'),(accuracies.mean()),(accuracies.std())]"
      ],
      "metadata": {
        "execution": {
          "iopub.status.busy": "2024-11-10T07:45:40.384306Z",
          "iopub.execute_input": "2024-11-10T07:45:40.384687Z",
          "iopub.status.idle": "2024-11-10T07:45:44.128755Z",
          "shell.execute_reply.started": "2024-11-10T07:45:40.384652Z",
          "shell.execute_reply": "2024-11-10T07:45:44.127616Z"
        },
        "trusted": true,
        "id": "b3s13Fz7XizO",
        "outputId": "71a60b2a-27fc-4462-d521-0b1f95a4a41b"
      },
      "outputs": [
        {
          "name": "stdout",
          "text": "Model Accuracy : 93.75%\nModel F1-Score : 94.01%\nCross Val Accuracy: 67.82 %\nCross Val Standard Deviation: 2.95 %\n              precision    recall  f1-score   support\n\n           0       0.97      0.96      0.97      3693\n           1       0.16      0.20      0.18       133\n\n    accuracy                           0.94      3826\n   macro avg       0.57      0.58      0.57      3826\nweighted avg       0.94      0.94      0.94      3826\n\n",
          "output_type": "stream"
        }
      ],
      "execution_count": null
    },
    {
      "cell_type": "markdown",
      "source": [
        "### Naive Bayes <a class=\"anchor\" id=\"sec6.3\"></a>"
      ],
      "metadata": {
        "id": "FywgJ_jEXizO"
      }
    },
    {
      "cell_type": "code",
      "source": [
        "classifier=GaussianNB()\n",
        "classifier.fit(X_train,y_train)\n",
        "y_pred=classifier.predict(X_test)\n",
        "print(f\"Model Accuracy : {accuracy_score(y_pred,y_test)*100:.2f}%\")\n",
        "print(f\"Model F1-Score : {f1_score(y_pred,y_test,average='weighted')*100:.2f}%\")\n",
        "accuracies = cross_val_score(estimator = classifier, X = X_train, y = y_train, cv = 5)\n",
        "print(\"Cross Val Accuracy: {:.2f} %\".format(accuracies.mean()*100))\n",
        "print(\"Cross Val Standard Deviation: {:.2f} %\".format(accuracies.std()*100))\n",
        "print(classification_report(y_pred,y_test,zero_division=1))\n",
        "model_comparison['Naive Bayes']=[accuracy_score(y_pred,y_test),f1_score(y_pred,y_test,average='weighted'),(accuracies.mean()),(accuracies.std())]"
      ],
      "metadata": {
        "execution": {
          "iopub.status.busy": "2024-11-10T07:45:44.130100Z",
          "iopub.execute_input": "2024-11-10T07:45:44.130452Z",
          "iopub.status.idle": "2024-11-10T07:45:44.212609Z",
          "shell.execute_reply.started": "2024-11-10T07:45:44.130421Z",
          "shell.execute_reply": "2024-11-10T07:45:44.211389Z"
        },
        "trusted": true,
        "id": "Xld-QI0yXizO",
        "outputId": "653e9527-3bc0-4697-fcc3-c7ac205724a1"
      },
      "outputs": [
        {
          "name": "stdout",
          "text": "Model Accuracy : 44.85%\nModel F1-Score : 31.93%\nCross Val Accuracy: 68.05 %\nCross Val Standard Deviation: 2.97 %\n              precision    recall  f1-score   support\n\n           0       0.43      1.00      0.60      1570\n           1       0.96      0.07      0.13      2256\n\n    accuracy                           0.45      3826\n   macro avg       0.69      0.53      0.36      3826\nweighted avg       0.74      0.45      0.32      3826\n\n",
          "output_type": "stream"
        }
      ],
      "execution_count": null
    },
    {
      "cell_type": "markdown",
      "source": [
        "### Support Vector Classifier <a class=\"anchor\" id=\"sec6.4\"></a>"
      ],
      "metadata": {
        "id": "u4OjGGrzXizO"
      }
    },
    {
      "cell_type": "code",
      "source": [
        "classifier=SVC(kernel = 'rbf', random_state = 0)\n",
        "classifier.fit(X_train,y_train)\n",
        "y_pred=classifier.predict(X_test)\n",
        "print(f\"Model Accuracy : {accuracy_score(y_pred,y_test)*100:.2f}%\")\n",
        "print(f\"Model F1-Score : {f1_score(y_pred,y_test,average='weighted')*100:.2f}%\")\n",
        "accuracies = cross_val_score(estimator = classifier, X = X_train, y = y_train, cv = 5)\n",
        "print(\"Cross Val Accuracy: {:.2f} %\".format(accuracies.mean()*100))\n",
        "print(\"Cross Val Standard Deviation: {:.2f} %\".format(accuracies.std()*100))\n",
        "print(classification_report(y_pred,y_test,zero_division=1))\n",
        "model_comparison['Support Vector Classifier']=[accuracy_score(y_pred,y_test),f1_score(y_pred,y_test,average='weighted'),(accuracies.mean()),(accuracies.std())]"
      ],
      "metadata": {
        "execution": {
          "iopub.status.busy": "2024-11-10T07:45:44.214272Z",
          "iopub.execute_input": "2024-11-10T07:45:44.214643Z",
          "iopub.status.idle": "2024-11-10T07:46:56.282827Z",
          "shell.execute_reply.started": "2024-11-10T07:45:44.214607Z",
          "shell.execute_reply": "2024-11-10T07:46:56.281552Z"
        },
        "trusted": true,
        "id": "A9iP1TGtXizO",
        "outputId": "1547d757-0486-405e-d7eb-b72464091d85"
      },
      "outputs": [
        {
          "name": "stdout",
          "text": "Model Accuracy : 75.43%\nModel F1-Score : 68.07%\nCross Val Accuracy: 82.42 %\nCross Val Standard Deviation: 0.53 %\n              precision    recall  f1-score   support\n\n           0       0.75      0.99      0.85      2794\n           1       0.79      0.12      0.21      1032\n\n    accuracy                           0.75      3826\n   macro avg       0.77      0.55      0.53      3826\nweighted avg       0.76      0.75      0.68      3826\n\n",
          "output_type": "stream"
        }
      ],
      "execution_count": null
    },
    {
      "cell_type": "markdown",
      "source": [
        "### Random Forest <a class=\"anchor\" id=\"sec6.5\"></a>"
      ],
      "metadata": {
        "id": "rtsv9vXJXizO"
      }
    },
    {
      "cell_type": "code",
      "source": [
        "classifier=RandomForestClassifier(n_estimators = 10, criterion = 'entropy', random_state = 0)\n",
        "classifier.fit(X_train,y_train)\n",
        "y_pred=classifier.predict(X_test)\n",
        "print(f\"Model Accuracy : {accuracy_score(y_pred,y_test)*100:.2f}%\")\n",
        "print(f\"Model F1-Score : {f1_score(y_pred,y_test,average='weighted')*100:.2f}%\")\n",
        "accuracies = cross_val_score(estimator = classifier, X = X_train, y = y_train, cv = 5)\n",
        "print(\"Cross Val Accuracy: {:.2f} %\".format(accuracies.mean()*100))\n",
        "print(\"Cross Val Standard Deviation: {:.2f} %\".format(accuracies.std()*100))\n",
        "print(classification_report(y_pred,y_test,zero_division=1))\n",
        "model_comparison['Random Forest']=[accuracy_score(y_pred,y_test),f1_score(y_pred,y_test,average='weighted'),(accuracies.mean()),(accuracies.std())]"
      ],
      "metadata": {
        "execution": {
          "iopub.status.busy": "2024-11-10T07:46:56.284631Z",
          "iopub.execute_input": "2024-11-10T07:46:56.285129Z",
          "iopub.status.idle": "2024-11-10T07:46:57.086304Z",
          "shell.execute_reply.started": "2024-11-10T07:46:56.285078Z",
          "shell.execute_reply": "2024-11-10T07:46:57.085041Z"
        },
        "trusted": true,
        "id": "QSw_HpTqXizO",
        "outputId": "3d8f6c15-5911-41a7-aa2d-2b174f2728ac"
      },
      "outputs": [
        {
          "name": "stdout",
          "text": "Model Accuracy : 82.25%\nModel F1-Score : 77.34%\nCross Val Accuracy: 88.31 %\nCross Val Standard Deviation: 1.02 %\n              precision    recall  f1-score   support\n\n           0       0.83      0.98      0.90      3119\n           1       0.59      0.13      0.22       707\n\n    accuracy                           0.82      3826\n   macro avg       0.71      0.56      0.56      3826\nweighted avg       0.79      0.82      0.77      3826\n\n",
          "output_type": "stream"
        }
      ],
      "execution_count": null
    },
    {
      "cell_type": "markdown",
      "source": [
        "### Xg Boost <a class=\"anchor\" id=\"sec6.6\"></a>"
      ],
      "metadata": {
        "id": "dNvZMAtLXizO"
      }
    },
    {
      "cell_type": "code",
      "source": [
        "classifier = XGBClassifier(objective= 'binary:logistic')\n",
        "classifier.fit(X_train,y_train)\n",
        "y_pred=classifier.predict(X_test)\n",
        "print(f\"Model Accuracy : {accuracy_score(y_pred,y_test)*100:.2f}%\")\n",
        "print(f\"Model F1-Score : {f1_score(y_pred,y_test,average='weighted')*100:.2f}%\")\n",
        "accuracies = cross_val_score(estimator = classifier, X = X_train, y = y_train, cv = 5)\n",
        "print(\"Cross Val Accuracy: {:.2f} %\".format(accuracies.mean()*100))\n",
        "print(\"Cross Val Standard Deviation: {:.2f} %\".format(accuracies.std()*100))\n",
        "print(classification_report(y_pred,y_test,zero_division=1))\n",
        "model_comparison['Xg Boost']=[accuracy_score(y_pred,y_test),f1_score(y_pred,y_test,average='weighted'),(accuracies.mean()),(accuracies.std())]"
      ],
      "metadata": {
        "execution": {
          "iopub.status.busy": "2024-11-10T07:46:57.088030Z",
          "iopub.execute_input": "2024-11-10T07:46:57.088519Z",
          "iopub.status.idle": "2024-11-10T07:47:03.104963Z",
          "shell.execute_reply.started": "2024-11-10T07:46:57.088471Z",
          "shell.execute_reply": "2024-11-10T07:47:03.103755Z"
        },
        "trusted": true,
        "id": "sm003tb7XizO",
        "outputId": "367e1e81-772c-4f5f-e27f-c276025ad20f"
      },
      "outputs": [
        {
          "name": "stdout",
          "text": "Model Accuracy : 82.07%\nModel F1-Score : 77.03%\nCross Val Accuracy: 88.24 %\nCross Val Standard Deviation: 0.98 %\n              precision    recall  f1-score   support\n\n           0       0.83      0.98      0.90      3084\n           1       0.68      0.14      0.24       742\n\n    accuracy                           0.82      3826\n   macro avg       0.75      0.56      0.57      3826\nweighted avg       0.80      0.82      0.77      3826\n\n",
          "output_type": "stream"
        }
      ],
      "execution_count": null
    },
    {
      "cell_type": "markdown",
      "source": [
        "### Stacking Regressor<a class=\"anchor\" id=\"sec6.6\"></a>"
      ],
      "metadata": {
        "id": "KLXYndVNXizO"
      }
    },
    {
      "cell_type": "code",
      "source": [
        "estimators=[('logistic regression',LogisticRegression()),('SVC',SVC(kernel = 'rbf', random_state = 0)),('Decision Classifier',DecisionTreeClassifier(criterion = 'entropy', random_state = 0)),('random forest',RandomForestClassifier(n_estimators = 10, criterion = 'entropy', random_state = 0)),('Xgboost',XGBClassifier())]"
      ],
      "metadata": {
        "execution": {
          "iopub.status.busy": "2024-11-10T07:47:03.106727Z",
          "iopub.execute_input": "2024-11-10T07:47:03.107116Z",
          "iopub.status.idle": "2024-11-10T07:47:03.114273Z",
          "shell.execute_reply.started": "2024-11-10T07:47:03.107082Z",
          "shell.execute_reply": "2024-11-10T07:47:03.112973Z"
        },
        "trusted": true,
        "id": "F0gWe_QzXizP"
      },
      "outputs": [],
      "execution_count": null
    },
    {
      "cell_type": "code",
      "source": [
        "from sklearn.ensemble import StackingClassifier\n",
        "model=StackingClassifier(estimators=estimators,final_estimator=LogisticRegression(),passthrough=True)\n",
        "model.fit(X_train, y_train)\n",
        "y_pred=classifier.predict(X_test)\n",
        "print(f\"Model Accuracy : {accuracy_score(y_pred,y_test)*100:.2f}%\")\n",
        "print(f\"Model F1-Score : {f1_score(y_pred,y_test,average='weighted')*100:.2f}%\")\n",
        "accuracies = cross_val_score(estimator = classifier, X = X_train, y = y_train, cv = 5)\n",
        "print(\"Cross Val Accuracy: {:.2f} %\".format(accuracies.mean()*100))\n",
        "print(\"Cross Val Standard Deviation: {:.2f} %\".format(accuracies.std()*100))\n",
        "print(classification_report(y_pred,y_test,zero_division=1))\n",
        "model_comparison['Stacking Regressor']=[accuracy_score(y_pred,y_test),f1_score(y_pred,y_test,average='weighted'),(accuracies.mean()),(accuracies.std())]"
      ],
      "metadata": {
        "execution": {
          "iopub.status.busy": "2024-11-10T07:47:03.116528Z",
          "iopub.execute_input": "2024-11-10T07:47:03.117001Z",
          "iopub.status.idle": "2024-11-10T07:48:26.052023Z",
          "shell.execute_reply.started": "2024-11-10T07:47:03.116952Z",
          "shell.execute_reply": "2024-11-10T07:48:26.050768Z"
        },
        "trusted": true,
        "id": "iqwSCgJgXizP",
        "outputId": "63b7c2b1-4569-459c-b185-9820ddd20b0b"
      },
      "outputs": [
        {
          "name": "stdout",
          "text": "Model Accuracy : 82.07%\nModel F1-Score : 77.03%\nCross Val Accuracy: 88.24 %\nCross Val Standard Deviation: 0.98 %\n              precision    recall  f1-score   support\n\n           0       0.83      0.98      0.90      3084\n           1       0.68      0.14      0.24       742\n\n    accuracy                           0.82      3826\n   macro avg       0.75      0.56      0.57      3826\nweighted avg       0.80      0.82      0.77      3826\n\n",
          "output_type": "stream"
        }
      ],
      "execution_count": null
    },
    {
      "cell_type": "markdown",
      "source": [
        "### Model Comparison <a class=\"anchor\" id=\"sec7\"></a>"
      ],
      "metadata": {
        "id": "4Zwdnn1tXizP"
      }
    },
    {
      "cell_type": "code",
      "source": [
        "Model_com_df=pd.DataFrame(model_comparison).T\n",
        "Model_com_df.columns=['Model Accuracy','Model F1-Score','CV Accuracy','CV std']\n",
        "Model_com_df=Model_com_df.sort_values(by='Model F1-Score',ascending=False)\n",
        "Model_com_df.style.format(\"{:.2%}\").background_gradient(cmap='Blues')"
      ],
      "metadata": {
        "execution": {
          "iopub.status.busy": "2024-11-10T07:48:26.053676Z",
          "iopub.execute_input": "2024-11-10T07:48:26.054724Z",
          "iopub.status.idle": "2024-11-10T07:48:26.081867Z",
          "shell.execute_reply.started": "2024-11-10T07:48:26.054674Z",
          "shell.execute_reply": "2024-11-10T07:48:26.080730Z"
        },
        "trusted": true,
        "id": "RXfLikxVXizP",
        "outputId": "054fed71-95ef-4be0-cb4d-dfbc73d26753"
      },
      "outputs": [
        {
          "execution_count": 52,
          "output_type": "execute_result",
          "data": {
            "text/plain": "<pandas.io.formats.style.Styler at 0x7952b2a02710>",
            "text/html": "<style type=\"text/css\">\n#T_d78c8_row0_col0, #T_d78c8_row0_col1, #T_d78c8_row1_col2, #T_d78c8_row7_col3 {\n  background-color: #08306b;\n  color: #f1f1f1;\n}\n#T_d78c8_row0_col2, #T_d78c8_row6_col3, #T_d78c8_row7_col0, #T_d78c8_row7_col1 {\n  background-color: #f7fbff;\n  color: #000000;\n}\n#T_d78c8_row0_col3, #T_d78c8_row2_col2 {\n  background-color: #08326e;\n  color: #f1f1f1;\n}\n#T_d78c8_row1_col0, #T_d78c8_row2_col0 {\n  background-color: #1e6db2;\n  color: #f1f1f1;\n}\n#T_d78c8_row1_col1, #T_d78c8_row2_col1 {\n  background-color: #2575b7;\n  color: #f1f1f1;\n}\n#T_d78c8_row1_col3 {\n  background-color: #d8e7f5;\n  color: #000000;\n}\n#T_d78c8_row2_col3 {\n  background-color: #d0e1f2;\n  color: #000000;\n}\n#T_d78c8_row3_col0, #T_d78c8_row4_col0 {\n  background-color: #1f6eb3;\n  color: #f1f1f1;\n}\n#T_d78c8_row3_col1, #T_d78c8_row4_col1 {\n  background-color: #2777b8;\n  color: #f1f1f1;\n}\n#T_d78c8_row3_col2, #T_d78c8_row4_col2 {\n  background-color: #083370;\n  color: #f1f1f1;\n}\n#T_d78c8_row3_col3, #T_d78c8_row4_col3 {\n  background-color: #d3e4f3;\n  color: #000000;\n}\n#T_d78c8_row5_col0 {\n  background-color: #2f7fbc;\n  color: #f1f1f1;\n}\n#T_d78c8_row5_col1 {\n  background-color: #3989c1;\n  color: #f1f1f1;\n}\n#T_d78c8_row5_col2 {\n  background-color: #3888c1;\n  color: #f1f1f1;\n}\n#T_d78c8_row5_col3 {\n  background-color: #eaf3fb;\n  color: #000000;\n}\n#T_d78c8_row6_col0 {\n  background-color: #4191c6;\n  color: #f1f1f1;\n}\n#T_d78c8_row6_col1 {\n  background-color: #4f9bcb;\n  color: #f1f1f1;\n}\n#T_d78c8_row6_col2 {\n  background-color: #2d7dbb;\n  color: #f1f1f1;\n}\n#T_d78c8_row7_col2 {\n  background-color: #f5fafe;\n  color: #000000;\n}\n</style>\n<table id=\"T_d78c8_\">\n  <thead>\n    <tr>\n      <th class=\"blank level0\" >&nbsp;</th>\n      <th class=\"col_heading level0 col0\" >Model Accuracy</th>\n      <th class=\"col_heading level0 col1\" >Model F1-Score</th>\n      <th class=\"col_heading level0 col2\" >CV Accuracy</th>\n      <th class=\"col_heading level0 col3\" >CV std</th>\n    </tr>\n  </thead>\n  <tbody>\n    <tr>\n      <th id=\"T_d78c8_level0_row0\" class=\"row_heading level0 row0\" >KNN</th>\n      <td id=\"T_d78c8_row0_col0\" class=\"data row0 col0\" >93.75%</td>\n      <td id=\"T_d78c8_row0_col1\" class=\"data row0 col1\" >94.01%</td>\n      <td id=\"T_d78c8_row0_col2\" class=\"data row0 col2\" >67.82%</td>\n      <td id=\"T_d78c8_row0_col3\" class=\"data row0 col3\" >2.95%</td>\n    </tr>\n    <tr>\n      <th id=\"T_d78c8_level0_row1\" class=\"row_heading level0 row1\" >Decision Tree</th>\n      <td id=\"T_d78c8_row1_col0\" class=\"data row1 col0\" >82.28%</td>\n      <td id=\"T_d78c8_row1_col1\" class=\"data row1 col1\" >77.39%</td>\n      <td id=\"T_d78c8_row1_col2\" class=\"data row1 col2\" >88.55%</td>\n      <td id=\"T_d78c8_row1_col3\" class=\"data row1 col3\" >0.92%</td>\n    </tr>\n    <tr>\n      <th id=\"T_d78c8_level0_row2\" class=\"row_heading level0 row2\" >Random Forest</th>\n      <td id=\"T_d78c8_row2_col0\" class=\"data row2 col0\" >82.25%</td>\n      <td id=\"T_d78c8_row2_col1\" class=\"data row2 col1\" >77.34%</td>\n      <td id=\"T_d78c8_row2_col2\" class=\"data row2 col2\" >88.31%</td>\n      <td id=\"T_d78c8_row2_col3\" class=\"data row2 col3\" >1.02%</td>\n    </tr>\n    <tr>\n      <th id=\"T_d78c8_level0_row3\" class=\"row_heading level0 row3\" >Xg Boost</th>\n      <td id=\"T_d78c8_row3_col0\" class=\"data row3 col0\" >82.07%</td>\n      <td id=\"T_d78c8_row3_col1\" class=\"data row3 col1\" >77.03%</td>\n      <td id=\"T_d78c8_row3_col2\" class=\"data row3 col2\" >88.24%</td>\n      <td id=\"T_d78c8_row3_col3\" class=\"data row3 col3\" >0.98%</td>\n    </tr>\n    <tr>\n      <th id=\"T_d78c8_level0_row4\" class=\"row_heading level0 row4\" >Stacking Regressor</th>\n      <td id=\"T_d78c8_row4_col0\" class=\"data row4 col0\" >82.07%</td>\n      <td id=\"T_d78c8_row4_col1\" class=\"data row4 col1\" >77.03%</td>\n      <td id=\"T_d78c8_row4_col2\" class=\"data row4 col2\" >88.24%</td>\n      <td id=\"T_d78c8_row4_col3\" class=\"data row4 col3\" >0.98%</td>\n    </tr>\n    <tr>\n      <th id=\"T_d78c8_level0_row5\" class=\"row_heading level0 row5\" >Logistic Regression</th>\n      <td id=\"T_d78c8_row5_col0\" class=\"data row5 col0\" >78.93%</td>\n      <td id=\"T_d78c8_row5_col1\" class=\"data row5 col1\" >72.75%</td>\n      <td id=\"T_d78c8_row5_col2\" class=\"data row5 col2\" >81.57%</td>\n      <td id=\"T_d78c8_row5_col3\" class=\"data row5 col3\" >0.68%</td>\n    </tr>\n    <tr>\n      <th id=\"T_d78c8_level0_row6\" class=\"row_heading level0 row6\" >Support Vector Classifier</th>\n      <td id=\"T_d78c8_row6_col0\" class=\"data row6 col0\" >75.43%</td>\n      <td id=\"T_d78c8_row6_col1\" class=\"data row6 col1\" >68.07%</td>\n      <td id=\"T_d78c8_row6_col2\" class=\"data row6 col2\" >82.42%</td>\n      <td id=\"T_d78c8_row6_col3\" class=\"data row6 col3\" >0.53%</td>\n    </tr>\n    <tr>\n      <th id=\"T_d78c8_level0_row7\" class=\"row_heading level0 row7\" >Naive Bayes</th>\n      <td id=\"T_d78c8_row7_col0\" class=\"data row7 col0\" >44.85%</td>\n      <td id=\"T_d78c8_row7_col1\" class=\"data row7 col1\" >31.93%</td>\n      <td id=\"T_d78c8_row7_col2\" class=\"data row7 col2\" >68.05%</td>\n      <td id=\"T_d78c8_row7_col3\" class=\"data row7 col3\" >2.97%</td>\n    </tr>\n  </tbody>\n</table>\n"
          },
          "metadata": {}
        }
      ],
      "execution_count": null
    },
    {
      "cell_type": "markdown",
      "source": [
        "#### Maximum Accuracies in each Column <a class=\"anchor\" id=\"sec7.1\"></a>"
      ],
      "metadata": {
        "id": "H4A-meEBXizP"
      }
    },
    {
      "cell_type": "code",
      "source": [
        "Model_com_df.style.highlight_max().set_caption(\"Maximum Score in each Column\").format(\"{:.2%}\")"
      ],
      "metadata": {
        "execution": {
          "iopub.status.busy": "2024-11-10T07:48:26.083604Z",
          "iopub.execute_input": "2024-11-10T07:48:26.084584Z",
          "iopub.status.idle": "2024-11-10T07:48:26.102021Z",
          "shell.execute_reply.started": "2024-11-10T07:48:26.084535Z",
          "shell.execute_reply": "2024-11-10T07:48:26.100765Z"
        },
        "trusted": true,
        "id": "r1WSH73HXizP",
        "outputId": "6b7789a3-00bb-4de1-bf3a-f7d04b17abc0"
      },
      "outputs": [
        {
          "execution_count": 53,
          "output_type": "execute_result",
          "data": {
            "text/plain": "<pandas.io.formats.style.Styler at 0x79527e4a4c90>",
            "text/html": "<style type=\"text/css\">\n#T_49bda_row0_col0, #T_49bda_row0_col1, #T_49bda_row1_col2, #T_49bda_row7_col3 {\n  background-color: yellow;\n}\n</style>\n<table id=\"T_49bda_\">\n  <caption>Maximum Score in each Column</caption>\n  <thead>\n    <tr>\n      <th class=\"blank level0\" >&nbsp;</th>\n      <th class=\"col_heading level0 col0\" >Model Accuracy</th>\n      <th class=\"col_heading level0 col1\" >Model F1-Score</th>\n      <th class=\"col_heading level0 col2\" >CV Accuracy</th>\n      <th class=\"col_heading level0 col3\" >CV std</th>\n    </tr>\n  </thead>\n  <tbody>\n    <tr>\n      <th id=\"T_49bda_level0_row0\" class=\"row_heading level0 row0\" >KNN</th>\n      <td id=\"T_49bda_row0_col0\" class=\"data row0 col0\" >93.75%</td>\n      <td id=\"T_49bda_row0_col1\" class=\"data row0 col1\" >94.01%</td>\n      <td id=\"T_49bda_row0_col2\" class=\"data row0 col2\" >67.82%</td>\n      <td id=\"T_49bda_row0_col3\" class=\"data row0 col3\" >2.95%</td>\n    </tr>\n    <tr>\n      <th id=\"T_49bda_level0_row1\" class=\"row_heading level0 row1\" >Decision Tree</th>\n      <td id=\"T_49bda_row1_col0\" class=\"data row1 col0\" >82.28%</td>\n      <td id=\"T_49bda_row1_col1\" class=\"data row1 col1\" >77.39%</td>\n      <td id=\"T_49bda_row1_col2\" class=\"data row1 col2\" >88.55%</td>\n      <td id=\"T_49bda_row1_col3\" class=\"data row1 col3\" >0.92%</td>\n    </tr>\n    <tr>\n      <th id=\"T_49bda_level0_row2\" class=\"row_heading level0 row2\" >Random Forest</th>\n      <td id=\"T_49bda_row2_col0\" class=\"data row2 col0\" >82.25%</td>\n      <td id=\"T_49bda_row2_col1\" class=\"data row2 col1\" >77.34%</td>\n      <td id=\"T_49bda_row2_col2\" class=\"data row2 col2\" >88.31%</td>\n      <td id=\"T_49bda_row2_col3\" class=\"data row2 col3\" >1.02%</td>\n    </tr>\n    <tr>\n      <th id=\"T_49bda_level0_row3\" class=\"row_heading level0 row3\" >Xg Boost</th>\n      <td id=\"T_49bda_row3_col0\" class=\"data row3 col0\" >82.07%</td>\n      <td id=\"T_49bda_row3_col1\" class=\"data row3 col1\" >77.03%</td>\n      <td id=\"T_49bda_row3_col2\" class=\"data row3 col2\" >88.24%</td>\n      <td id=\"T_49bda_row3_col3\" class=\"data row3 col3\" >0.98%</td>\n    </tr>\n    <tr>\n      <th id=\"T_49bda_level0_row4\" class=\"row_heading level0 row4\" >Stacking Regressor</th>\n      <td id=\"T_49bda_row4_col0\" class=\"data row4 col0\" >82.07%</td>\n      <td id=\"T_49bda_row4_col1\" class=\"data row4 col1\" >77.03%</td>\n      <td id=\"T_49bda_row4_col2\" class=\"data row4 col2\" >88.24%</td>\n      <td id=\"T_49bda_row4_col3\" class=\"data row4 col3\" >0.98%</td>\n    </tr>\n    <tr>\n      <th id=\"T_49bda_level0_row5\" class=\"row_heading level0 row5\" >Logistic Regression</th>\n      <td id=\"T_49bda_row5_col0\" class=\"data row5 col0\" >78.93%</td>\n      <td id=\"T_49bda_row5_col1\" class=\"data row5 col1\" >72.75%</td>\n      <td id=\"T_49bda_row5_col2\" class=\"data row5 col2\" >81.57%</td>\n      <td id=\"T_49bda_row5_col3\" class=\"data row5 col3\" >0.68%</td>\n    </tr>\n    <tr>\n      <th id=\"T_49bda_level0_row6\" class=\"row_heading level0 row6\" >Support Vector Classifier</th>\n      <td id=\"T_49bda_row6_col0\" class=\"data row6 col0\" >75.43%</td>\n      <td id=\"T_49bda_row6_col1\" class=\"data row6 col1\" >68.07%</td>\n      <td id=\"T_49bda_row6_col2\" class=\"data row6 col2\" >82.42%</td>\n      <td id=\"T_49bda_row6_col3\" class=\"data row6 col3\" >0.53%</td>\n    </tr>\n    <tr>\n      <th id=\"T_49bda_level0_row7\" class=\"row_heading level0 row7\" >Naive Bayes</th>\n      <td id=\"T_49bda_row7_col0\" class=\"data row7 col0\" >44.85%</td>\n      <td id=\"T_49bda_row7_col1\" class=\"data row7 col1\" >31.93%</td>\n      <td id=\"T_49bda_row7_col2\" class=\"data row7 col2\" >68.05%</td>\n      <td id=\"T_49bda_row7_col3\" class=\"data row7 col3\" >2.97%</td>\n    </tr>\n  </tbody>\n</table>\n"
          },
          "metadata": {}
        }
      ],
      "execution_count": null
    },
    {
      "cell_type": "markdown",
      "source": [
        "#### Minimum Accuracies in each Column <a class=\"anchor\" id=\"sec7.2\"></a>"
      ],
      "metadata": {
        "id": "WPMShCz5XizP"
      }
    },
    {
      "cell_type": "code",
      "source": [
        "Model_com_df.style.highlight_min().set_caption(\"Minimum Score in each Column\").format(\"{:.2%}\")"
      ],
      "metadata": {
        "execution": {
          "iopub.status.busy": "2024-11-10T07:48:26.103720Z",
          "iopub.execute_input": "2024-11-10T07:48:26.104166Z",
          "iopub.status.idle": "2024-11-10T07:48:26.125441Z",
          "shell.execute_reply.started": "2024-11-10T07:48:26.104122Z",
          "shell.execute_reply": "2024-11-10T07:48:26.124108Z"
        },
        "trusted": true,
        "id": "Lr-kPvzWXizP",
        "outputId": "39165c98-fde0-47d7-f4f4-46e117c0121b"
      },
      "outputs": [
        {
          "execution_count": 54,
          "output_type": "execute_result",
          "data": {
            "text/plain": "<pandas.io.formats.style.Styler at 0x79525c007910>",
            "text/html": "<style type=\"text/css\">\n#T_7a353_row0_col2, #T_7a353_row6_col3, #T_7a353_row7_col0, #T_7a353_row7_col1 {\n  background-color: yellow;\n}\n</style>\n<table id=\"T_7a353_\">\n  <caption>Minimum Score in each Column</caption>\n  <thead>\n    <tr>\n      <th class=\"blank level0\" >&nbsp;</th>\n      <th class=\"col_heading level0 col0\" >Model Accuracy</th>\n      <th class=\"col_heading level0 col1\" >Model F1-Score</th>\n      <th class=\"col_heading level0 col2\" >CV Accuracy</th>\n      <th class=\"col_heading level0 col3\" >CV std</th>\n    </tr>\n  </thead>\n  <tbody>\n    <tr>\n      <th id=\"T_7a353_level0_row0\" class=\"row_heading level0 row0\" >KNN</th>\n      <td id=\"T_7a353_row0_col0\" class=\"data row0 col0\" >93.75%</td>\n      <td id=\"T_7a353_row0_col1\" class=\"data row0 col1\" >94.01%</td>\n      <td id=\"T_7a353_row0_col2\" class=\"data row0 col2\" >67.82%</td>\n      <td id=\"T_7a353_row0_col3\" class=\"data row0 col3\" >2.95%</td>\n    </tr>\n    <tr>\n      <th id=\"T_7a353_level0_row1\" class=\"row_heading level0 row1\" >Decision Tree</th>\n      <td id=\"T_7a353_row1_col0\" class=\"data row1 col0\" >82.28%</td>\n      <td id=\"T_7a353_row1_col1\" class=\"data row1 col1\" >77.39%</td>\n      <td id=\"T_7a353_row1_col2\" class=\"data row1 col2\" >88.55%</td>\n      <td id=\"T_7a353_row1_col3\" class=\"data row1 col3\" >0.92%</td>\n    </tr>\n    <tr>\n      <th id=\"T_7a353_level0_row2\" class=\"row_heading level0 row2\" >Random Forest</th>\n      <td id=\"T_7a353_row2_col0\" class=\"data row2 col0\" >82.25%</td>\n      <td id=\"T_7a353_row2_col1\" class=\"data row2 col1\" >77.34%</td>\n      <td id=\"T_7a353_row2_col2\" class=\"data row2 col2\" >88.31%</td>\n      <td id=\"T_7a353_row2_col3\" class=\"data row2 col3\" >1.02%</td>\n    </tr>\n    <tr>\n      <th id=\"T_7a353_level0_row3\" class=\"row_heading level0 row3\" >Xg Boost</th>\n      <td id=\"T_7a353_row3_col0\" class=\"data row3 col0\" >82.07%</td>\n      <td id=\"T_7a353_row3_col1\" class=\"data row3 col1\" >77.03%</td>\n      <td id=\"T_7a353_row3_col2\" class=\"data row3 col2\" >88.24%</td>\n      <td id=\"T_7a353_row3_col3\" class=\"data row3 col3\" >0.98%</td>\n    </tr>\n    <tr>\n      <th id=\"T_7a353_level0_row4\" class=\"row_heading level0 row4\" >Stacking Regressor</th>\n      <td id=\"T_7a353_row4_col0\" class=\"data row4 col0\" >82.07%</td>\n      <td id=\"T_7a353_row4_col1\" class=\"data row4 col1\" >77.03%</td>\n      <td id=\"T_7a353_row4_col2\" class=\"data row4 col2\" >88.24%</td>\n      <td id=\"T_7a353_row4_col3\" class=\"data row4 col3\" >0.98%</td>\n    </tr>\n    <tr>\n      <th id=\"T_7a353_level0_row5\" class=\"row_heading level0 row5\" >Logistic Regression</th>\n      <td id=\"T_7a353_row5_col0\" class=\"data row5 col0\" >78.93%</td>\n      <td id=\"T_7a353_row5_col1\" class=\"data row5 col1\" >72.75%</td>\n      <td id=\"T_7a353_row5_col2\" class=\"data row5 col2\" >81.57%</td>\n      <td id=\"T_7a353_row5_col3\" class=\"data row5 col3\" >0.68%</td>\n    </tr>\n    <tr>\n      <th id=\"T_7a353_level0_row6\" class=\"row_heading level0 row6\" >Support Vector Classifier</th>\n      <td id=\"T_7a353_row6_col0\" class=\"data row6 col0\" >75.43%</td>\n      <td id=\"T_7a353_row6_col1\" class=\"data row6 col1\" >68.07%</td>\n      <td id=\"T_7a353_row6_col2\" class=\"data row6 col2\" >82.42%</td>\n      <td id=\"T_7a353_row6_col3\" class=\"data row6 col3\" >0.53%</td>\n    </tr>\n    <tr>\n      <th id=\"T_7a353_level0_row7\" class=\"row_heading level0 row7\" >Naive Bayes</th>\n      <td id=\"T_7a353_row7_col0\" class=\"data row7 col0\" >44.85%</td>\n      <td id=\"T_7a353_row7_col1\" class=\"data row7 col1\" >31.93%</td>\n      <td id=\"T_7a353_row7_col2\" class=\"data row7 col2\" >68.05%</td>\n      <td id=\"T_7a353_row7_col3\" class=\"data row7 col3\" >2.97%</td>\n    </tr>\n  </tbody>\n</table>\n"
          },
          "metadata": {}
        }
      ],
      "execution_count": null
    },
    {
      "cell_type": "markdown",
      "source": [
        "### Final Model(XgBoost)  for submission <a class=\"anchor\" id=\"sec8\"></a>"
      ],
      "metadata": {
        "id": "2q0J7RKNXizP"
      }
    },
    {
      "cell_type": "code",
      "source": [
        "estimator=XGBClassifier(objective= 'binary:logistic')\n",
        "parameters = {\n",
        "    'max_depth': range (2, 10, 1),\n",
        "    'n_estimators': range(60, 220, 40),\n",
        "    'learning_rate': [0.1, 0.01, 0.05]\n",
        "}"
      ],
      "metadata": {
        "execution": {
          "iopub.status.busy": "2024-11-10T07:48:26.127470Z",
          "iopub.execute_input": "2024-11-10T07:48:26.127953Z",
          "iopub.status.idle": "2024-11-10T07:48:26.136915Z",
          "shell.execute_reply.started": "2024-11-10T07:48:26.127908Z",
          "shell.execute_reply": "2024-11-10T07:48:26.135770Z"
        },
        "trusted": true,
        "id": "lH3DARhCXizP"
      },
      "outputs": [],
      "execution_count": null
    },
    {
      "cell_type": "code",
      "source": [
        "from sklearn.model_selection import GridSearchCV\n",
        "grid_search = GridSearchCV(\n",
        "    estimator=estimator,\n",
        "    param_grid=parameters,\n",
        "    scoring = 'roc_auc',\n",
        "    n_jobs = 10,\n",
        "    cv = 10,\n",
        "    verbose=True\n",
        ")"
      ],
      "metadata": {
        "execution": {
          "iopub.status.busy": "2024-11-10T07:48:26.138568Z",
          "iopub.execute_input": "2024-11-10T07:48:26.139067Z",
          "iopub.status.idle": "2024-11-10T07:48:26.150821Z",
          "shell.execute_reply.started": "2024-11-10T07:48:26.139022Z",
          "shell.execute_reply": "2024-11-10T07:48:26.149280Z"
        },
        "trusted": true,
        "id": "d44lGA0uXizP"
      },
      "outputs": [],
      "execution_count": null
    },
    {
      "cell_type": "code",
      "source": [
        "grid_search.fit(X,y)"
      ],
      "metadata": {
        "trusted": true,
        "execution": {
          "iopub.status.busy": "2024-11-10T07:48:26.152319Z",
          "iopub.execute_input": "2024-11-10T07:48:26.152725Z",
          "iopub.status.idle": "2024-11-10T08:03:57.889290Z",
          "shell.execute_reply.started": "2024-11-10T07:48:26.152666Z",
          "shell.execute_reply": "2024-11-10T08:03:57.888048Z"
        },
        "id": "N5K7XJC4XizP",
        "outputId": "ef882b6d-a4e8-4f84-9e21-08da28eb5e11"
      },
      "outputs": [
        {
          "name": "stdout",
          "text": "Fitting 10 folds for each of 96 candidates, totalling 960 fits\n",
          "output_type": "stream"
        },
        {
          "execution_count": 57,
          "output_type": "execute_result",
          "data": {
            "text/plain": "GridSearchCV(cv=10,\n             estimator=XGBClassifier(base_score=None, booster=None,\n                                     callbacks=None, colsample_bylevel=None,\n                                     colsample_bynode=None,\n                                     colsample_bytree=None,\n                                     early_stopping_rounds=None,\n                                     enable_categorical=False, eval_metric=None,\n                                     gamma=None, gpu_id=None, grow_policy=None,\n                                     importance_type=None,\n                                     interaction_constraints=None,\n                                     learning_rate=None, max_bin=None,\n                                     max_c...\n                                     max_delta_step=None, max_depth=None,\n                                     max_leaves=None, min_child_weight=None,\n                                     missing=nan, monotone_constraints=None,\n                                     n_estimators=100, n_jobs=None,\n                                     num_parallel_tree=None, predictor=None,\n                                     random_state=None, reg_alpha=None,\n                                     reg_lambda=None, ...),\n             n_jobs=10,\n             param_grid={'learning_rate': [0.1, 0.01, 0.05],\n                         'max_depth': range(2, 10),\n                         'n_estimators': range(60, 220, 40)},\n             scoring='roc_auc', verbose=True)"
          },
          "metadata": {}
        }
      ],
      "execution_count": null
    },
    {
      "cell_type": "code",
      "source": [
        "grid_search.best_estimator_"
      ],
      "metadata": {
        "trusted": true,
        "execution": {
          "iopub.status.busy": "2024-11-10T08:03:57.890969Z",
          "iopub.execute_input": "2024-11-10T08:03:57.891681Z",
          "iopub.status.idle": "2024-11-10T08:03:57.903825Z",
          "shell.execute_reply.started": "2024-11-10T08:03:57.891641Z",
          "shell.execute_reply": "2024-11-10T08:03:57.902597Z"
        },
        "id": "ZTggx1ioXizP",
        "outputId": "514d1c55-412e-4431-dd02-f1dee0250f69"
      },
      "outputs": [
        {
          "execution_count": 58,
          "output_type": "execute_result",
          "data": {
            "text/plain": "XGBClassifier(base_score=0.5, booster='gbtree', callbacks=None,\n              colsample_bylevel=1, colsample_bynode=1, colsample_bytree=1,\n              early_stopping_rounds=None, enable_categorical=False,\n              eval_metric=None, gamma=0, gpu_id=-1, grow_policy='depthwise',\n              importance_type=None, interaction_constraints='',\n              learning_rate=0.1, max_bin=256, max_cat_to_onehot=4,\n              max_delta_step=0, max_depth=2, max_leaves=0, min_child_weight=1,\n              missing=nan, monotone_constraints='()', n_estimators=140,\n              n_jobs=0, num_parallel_tree=1, predictor='auto', random_state=0,\n              reg_alpha=0, reg_lambda=1, ...)"
          },
          "metadata": {}
        }
      ],
      "execution_count": null
    },
    {
      "cell_type": "code",
      "source": [
        "X=df.iloc[:,1:-1]\n",
        "y=df.iloc[:,-1]\n",
        "test=test.iloc[:,1:]\n",
        "var=list(df.select_dtypes(include=['float64']).columns)\n",
        "X=outlier_treating(X,var)\n",
        "test=outlier_treating(test,var)\n",
        "X=pd.get_dummies(X,drop_first=False)\n",
        "test=pd.get_dummies(test,drop_first=False)\n",
        "X=X[['age','hypertension','heart_disease','ever_married_Yes','work_type_Self-employed','work_type_children','smoking_status_formerly smoked','smoking_status_Unknown']]\n",
        "test=test[['age','hypertension','heart_disease','ever_married_Yes','work_type_Self-employed','work_type_children','smoking_status_formerly smoked','smoking_status_Unknown']]\n",
        "sm = SMOTE(random_state=2,k_neighbors=3,sampling_strategy='minority')\n",
        "X,y=sm.fit_resample(X,y)\n",
        "sc=StandardScaler()\n",
        "X=sc.fit_transform(X)\n",
        "test=sc.transform(test)\n",
        "classifier=XGBClassifier(base_score=0.5, booster='gbtree', callbacks=None,\n",
        "              colsample_bylevel=1, colsample_bynode=1, colsample_bytree=1,\n",
        "              early_stopping_rounds=None, enable_categorical=False,\n",
        "              eval_metric=None, gamma=0, gpu_id=-1, grow_policy='depthwise',\n",
        "              importance_type=None, interaction_constraints='',\n",
        "              learning_rate=0.1, max_bin=256, max_cat_to_onehot=4,\n",
        "              max_delta_step=0, max_depth=9, max_leaves=0, min_child_weight=1,\n",
        "              monotone_constraints='()', n_estimators=180,\n",
        "              n_jobs=0, num_parallel_tree=1, predictor='auto', random_state=0,\n",
        "              reg_alpha=0, reg_lambda=1)\n",
        "classifier.fit(X,y)\n",
        "y_pred=classifier.predict_proba(test)\n",
        "sub['stroke']=y_pred[:,1]\n",
        "sub.to_csv('file.csv')"
      ],
      "metadata": {
        "trusted": true,
        "execution": {
          "iopub.status.busy": "2024-11-10T08:03:57.905158Z",
          "iopub.execute_input": "2024-11-10T08:03:57.905574Z",
          "iopub.status.idle": "2024-11-10T08:04:01.275066Z",
          "shell.execute_reply.started": "2024-11-10T08:03:57.905533Z",
          "shell.execute_reply": "2024-11-10T08:04:01.273798Z"
        },
        "id": "kyzByAEtXizP"
      },
      "outputs": [],
      "execution_count": null
    },
    {
      "cell_type": "markdown",
      "source": [
        "<html>\n",
        "<img src=\"https://media3.giphy.com/media/vIBFxsppf4Bdh3ZKDa/giphy.gif?cid=6c09b9525260d6f09b014a5202ea0c90aa1526d656215736&rid=giphy.gif&ct=s\" alt=\"Computer man\" style=\"width:400px;height:300px;\"/>\n",
        "</html>"
      ],
      "metadata": {
        "id": "t3rkoBtEXizQ"
      }
    }
  ]
}